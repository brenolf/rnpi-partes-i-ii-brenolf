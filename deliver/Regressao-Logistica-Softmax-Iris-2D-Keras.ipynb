{
 "cells": [
  {
   "cell_type": "markdown",
   "metadata": {},
   "source": [
    "# Regressão Logística usando Softmax no Keras - Iris dataset\n",
    "\n",
    "Este notebook reproduz o exemplo de Regressão Logística usando Softmax,\n",
    "já feito utilizando programação matricial. \n",
    "Neste notebook utiliza-se o Keras, utilizando o mesmo modelo e mesmos parâmetros.\n",
    "\n",
    "Os objetivos desta experiência são:\n",
    "* Primeiros passos na utilização do Keras\n",
    "    * criação rede densa de uma camada e ativação Softmax\n",
    "    * compilação para preparação treinamento\n",
    "    * treinamento\n",
    "    * avaliação"
   ]
  },
  {
   "cell_type": "code",
   "execution_count": 1,
   "metadata": {
    "collapsed": false
   },
   "outputs": [
    {
     "name": "stderr",
     "output_type": "stream",
     "text": [
      "Using Theano backend.\n"
     ]
    }
   ],
   "source": [
    "import numpy as np\n",
    "import matplotlib.pyplot as plt\n",
    "%matplotlib inline\n",
    "from sklearn.datasets import load_iris\n",
    "\n",
    "import keras\n",
    "from keras.utils import np_utils \n",
    "from keras.models import Sequential \n",
    "from keras.layers import Dense, Activation \n",
    "from keras.optimizers import SGD\n"
   ]
  },
  {
   "cell_type": "markdown",
   "metadata": {},
   "source": [
    "## Leitura, normalização e visualização dos dados\n"
   ]
  },
  {
   "cell_type": "code",
   "execution_count": 7,
   "metadata": {
    "collapsed": false
   },
   "outputs": [
    {
     "data": {
      "image/png": "[encoded data removed]",
      "text/plain": [
       "<matplotlib.figure.Figure at 0x7ff670a844d0>"
      ]
     },
     "metadata": {},
     "output_type": "display_data"
    }
   ],
   "source": [
    "iris = load_iris()\n",
    "X = iris.data[:,::2]  # comprimento das sépalas e pétalas, indices 0 e 2\n",
    "Xc = X - X.min(axis=0)\n",
    "Xc /= Xc.max(axis=0)\n",
    "\n",
    "Y = iris.target\n",
    "\n",
    "colors = np.array(['r','y','b'])\n",
    "plt.scatter(Xc[:, 0], Xc[:, 1], c=colors[Y])\n",
    "plt.xlabel('Sepal length')\n",
    "plt.ylabel('Sepal width')\n",
    "plt.show()"
   ]
  },
  {
   "cell_type": "markdown",
   "metadata": {},
   "source": [
    "## Convertendo rótulos na codificação 'one-hot' - categórico"
   ]
  },
  {
   "cell_type": "code",
   "execution_count": 8,
   "metadata": {
    "collapsed": false
   },
   "outputs": [
    {
     "name": "stdout",
     "output_type": "stream",
     "text": [
      "[0 0 0 0 0]\n",
      "[[ 1.  0.  0.]\n",
      " [ 1.  0.  0.]\n",
      " [ 1.  0.  0.]\n",
      " [ 1.  0.  0.]\n",
      " [ 1.  0.  0.]]\n"
     ]
    }
   ],
   "source": [
    "Y_oh = np_utils.to_categorical(Y, 3) \n",
    "print Y[0:5]\n",
    "print Y_oh[0:5]"
   ]
  },
  {
   "cell_type": "markdown",
   "metadata": {},
   "source": [
    "## Construindo o modelo da rede\n",
    "\n",
    "Para construirmos a rede equivalente da experiência da Regressão Logística, basta colocar\n",
    "* uma rede neural densa (totalmente conectada), onde o \n",
    "* número de entradas são dois, pois são dois atributos e o \n",
    "* número de saídas é 3 (número de classes). \n",
    "* Utiliza-se o Softmax como camada de ativação e a\n",
    "* inicialização dos pesos deve ser zero.\n",
    "\n",
    "**Obs:** Em geral, a inicialização dos pesos em zero não é uma boa opção. Fui utilizado aqui apenas para comparação com as implementações matriciais anteriores."
   ]
  },
  {
   "cell_type": "code",
   "execution_count": 34,
   "metadata": {
    "collapsed": false
   },
   "outputs": [],
   "source": [
    "output_dim = nb_classes = 3 \n",
    "model = Sequential() \n",
    "model.add(Dense(20, input_dim=2, activation='tanh',init='glorot_normal')) \n",
    "model.add(Dense(output_dim, activation='softmax')) \n",
    "#model.add(Dense(output_dim, input_dim=2, activation='softmax',init='zero')) \n"
   ]
  },
  {
   "cell_type": "markdown",
   "metadata": {},
   "source": [
    "## Compilação do modelo\n",
    "\n",
    "A compilação do modelo é a sua preparação para o treinamento. Quando se compila o modelo, deve-se escolher o método da otimização e a função de perda a ser minimizada.\n",
    "Iremos utilizar o Gradiente Descendente, para isso escolhe-se o \n",
    "* SGD - Stochastic Gradient Descent e inicializa a \n",
    "* taxa de aprendizagem `lr`.\n",
    "\n",
    "**Obs:** Observe que apesar de usarmos os SGD, este método se degrada no gradiente descendente, desde que o `batch_size` seja igual ao número total de amostras."
   ]
  },
  {
   "cell_type": "code",
   "execution_count": 35,
   "metadata": {
    "collapsed": true
   },
   "outputs": [],
   "source": [
    "sgd = SGD(lr=0.15)\n",
    "model.compile(optimizer=sgd, loss='categorical_crossentropy') "
   ]
  },
  {
   "cell_type": "markdown",
   "metadata": {},
   "source": [
    "## Laço principal de treinamento da Regressão Logística por Softmax\n",
    "\n",
    "O treinamento via gradiente descendente acontece na função `fit`. É preciso fornecer:\n",
    "* Número de iterações, aqui denominado de `nb_epoch` e\n",
    "* `batch_size` que é o número de amostras utilizado a cada iteração de atualização dos pesos pelo gradiente descendente."
   ]
  },
  {
   "cell_type": "code",
   "execution_count": 36,
   "metadata": {
    "collapsed": true
   },
   "outputs": [],
   "source": [
    "batch_size = 150\n",
    "nb_epoch = 10000\n",
    "n = Xc.shape[0] # number of training examples\n",
    "history = model.fit(Xc, Y_oh, batch_size=batch_size, nb_epoch=nb_epoch,verbose=0)"
   ]
  },
  {
   "cell_type": "markdown",
   "metadata": {},
   "source": [
    "## Imprimindo perda e W finais\n",
    "\n",
    "Observe que no Kera, o parâmetros são o W e o Bias, eles são separados. Nas implementaçõe anteriores por programação matricial, foi mais simples colocar a coluna de '1' no `X` para que o `W` já ficasse com o Bias. Observe abaixo que no Keras, o W tem shape: (2,3) e o Bias tem shape: (1,3)"
   ]
  },
  {
   "cell_type": "code",
   "execution_count": 37,
   "metadata": {
    "collapsed": false
   },
   "outputs": [
    {
     "name": "stdout",
     "output_type": "stream",
     "text": [
      "Final loss: 0.0787757874404\n",
      "Bias:\n",
      "[-1.17295063  0.54845655  0.59858245  0.16238648  1.18390477  0.38615662\n",
      "  1.27282989 -0.10445468  0.16475293 -0.23476346  0.57247239  0.1852385\n",
      " -0.19327392  2.41513634  0.03107413  0.69341385  1.10413313 -0.84204447\n",
      "  1.49006522 -1.24424767]\n",
      "W:\n",
      "[[-0.61492437  0.06173412 -0.45470983  0.2602658  -0.14148259  0.09331688\n",
      "   0.42364779 -0.02480179 -0.3549664   0.16617708  0.02560317 -0.37016642\n",
      "  -0.0088705   0.95917547 -0.55734539  0.17025225  0.3334384   0.79660308\n",
      "   0.704539   -0.4004817 ]\n",
      " [ 2.54557323 -0.78509599  0.07052755 -1.73087275 -1.61964464 -1.94633877\n",
      "  -2.42822552  1.00160897 -1.42437279 -0.22900295 -1.1598196  -1.22773337\n",
      "  -0.39520955 -4.94350052 -1.06792724 -1.18408215 -2.01857805  3.14758706\n",
      "  -3.32874751  2.62073612]]\n"
     ]
    }
   ],
   "source": [
    "loss = model.evaluate(Xc, Y_oh, verbose=0)\n",
    "print 'Final loss:',loss\n",
    "\n",
    "W = model.get_weights()\n",
    "print 'Bias:\\n', W[1]\n",
    "print 'W:\\n', W[0]"
   ]
  },
  {
   "cell_type": "markdown",
   "metadata": {},
   "source": [
    "## Visualizando a minimização da Perda durante o treinamento\n"
   ]
  },
  {
   "cell_type": "code",
   "execution_count": 38,
   "metadata": {
    "collapsed": false
   },
   "outputs": [
    {
     "data": {
      "text/plain": [
       "[<matplotlib.lines.Line2D at 0x7ff661a815d0>]"
      ]
     },
     "execution_count": 38,
     "metadata": {},
     "output_type": "execute_result"
    },
    {
     "data": {
      "image/png": "[encoded data removed]",
      "text/plain": [
       "<matplotlib.figure.Figure at 0x7ff663553d50>"
      ]
     },
     "metadata": {},
     "output_type": "display_data"
    }
   ],
   "source": [
    "plt.plot(history.history['loss'])"
   ]
  },
  {
   "cell_type": "markdown",
   "metadata": {},
   "source": [
    "## Cálculo do desempenho do resultado\n"
   ]
  },
  {
   "cell_type": "code",
   "execution_count": 39,
   "metadata": {
    "collapsed": false
   },
   "outputs": [
    {
     "name": "stdout",
     "output_type": "stream",
     "text": [
      " 32/150 [=====>........................] - ETA: 0s\n",
      "Acurácia:  0.966666666667\n",
      "Matriz de confusão:\n"
     ]
    },
    {
     "data": {
      "text/html": [
       "<div>\n",
       "<table border=\"1\" class=\"dataframe\">\n",
       "  <thead>\n",
       "    <tr style=\"text-align: right;\">\n",
       "      <th>col_0</th>\n",
       "      <th>0</th>\n",
       "      <th>1</th>\n",
       "      <th>2</th>\n",
       "    </tr>\n",
       "    <tr>\n",
       "      <th>row_0</th>\n",
       "      <th></th>\n",
       "      <th></th>\n",
       "      <th></th>\n",
       "    </tr>\n",
       "  </thead>\n",
       "  <tbody>\n",
       "    <tr>\n",
       "      <th>0</th>\n",
       "      <td>50</td>\n",
       "      <td>0</td>\n",
       "      <td>0</td>\n",
       "    </tr>\n",
       "    <tr>\n",
       "      <th>1</th>\n",
       "      <td>0</td>\n",
       "      <td>47</td>\n",
       "      <td>2</td>\n",
       "    </tr>\n",
       "    <tr>\n",
       "      <th>2</th>\n",
       "      <td>0</td>\n",
       "      <td>3</td>\n",
       "      <td>48</td>\n",
       "    </tr>\n",
       "  </tbody>\n",
       "</table>\n",
       "</div>"
      ],
      "text/plain": [
       "col_0   0   1   2\n",
       "row_0            \n",
       "0      50   0   0\n",
       "1       0  47   2\n",
       "2       0   3  48"
      ]
     },
     "execution_count": 39,
     "metadata": {},
     "output_type": "execute_result"
    }
   ],
   "source": [
    "Y_hat = model.predict_classes(Xc)\n",
    "\n",
    "accuracy = np.sum(Y_hat == Y)/np.float(n)\n",
    "print\n",
    "print 'Acurácia: ', accuracy\n",
    "\n",
    "print 'Matriz de confusão:'\n",
    "import pandas as pd\n",
    "pd.crosstab(Y_hat, Y)\n"
   ]
  },
  {
   "cell_type": "markdown",
   "metadata": {},
   "source": [
    "## Visualização das fronteiras de decisão no espaço de atributos"
   ]
  },
  {
   "cell_type": "code",
   "execution_count": 40,
   "metadata": {
    "collapsed": false,
    "scrolled": true
   },
   "outputs": [
    {
     "name": "stdout",
     "output_type": "stream",
     "text": [
      "2944/3721 [======================>.......] - ETA: 0s\b\b\b\b\b\b\b\b\b\b\b\b\b\b\b\b\b\b\b\b\b\b\b\b\b\b\b\b\b\b\b\b\b\b\b\b\b\b\b\b\b\b\b\b\b\b\b\b\b\b\b\b"
     ]
    },
    {
     "data": {
      "image/png": "[encoded data removed]",
      "text/plain": [
       "<matplotlib.figure.Figure at 0x7ff661aab490>"
      ]
     },
     "metadata": {},
     "output_type": "display_data"
    }
   ],
   "source": [
    "h = .02  # step size in the mesh\n",
    "folga = 0.1\n",
    "# Calcula a grade para o espaço de atributos\n",
    "\n",
    "x_min, x_max = Xc.min(axis=0) - folga, Xc.max(axis=0) + folga\n",
    "xx, yy = np.meshgrid(np.arange(x_min[0], x_max[0], h), np.arange(x_min[1], x_max[1], h))\n",
    "X_grid = np.c_[xx.ravel(), yy.ravel()]\n",
    "#X_grid = np.hstack([np.ones((X_grid.shape[0],1)),X_grid]) # incluído X00 como 1 para gerar bias no W\n",
    "\n",
    "# Faz a predição para todas as amostras do espaço de atributos\n",
    "Z = model.predict_classes(X_grid)\n",
    "\n",
    "# Mostra o resultado da predição (0, 1 ou 2) no gráfico\n",
    "Z = Z.reshape(xx.shape)\n",
    "plt.figure(1, figsize=(6, 5))\n",
    "plt.pcolormesh(xx, yy, Z, cmap=plt.cm.Paired)\n",
    "\n",
    "# Mostra os pontos das amostras de treinamento\n",
    "colors = np.array(['r','y','b'])\n",
    "plt.scatter(Xc[:, 0], Xc[:, 1], c=colors[Y], edgecolors='k', cmap=plt.cm.Paired)\n",
    "plt.xlabel('Sepal length')\n",
    "plt.ylabel('Sepal width')\n",
    "plt.show()"
   ]
  },
  {
   "cell_type": "markdown",
   "metadata": {
    "collapsed": true
   },
   "source": [
    "## Atividades\n",
    "\n",
    "1. Compare os valores finais de perda e W com os valores obtidos na versão utilizando programação matricial. Os valores devem ser iguais.\n",
    "2. O próximo notebook será igual a este, porém com a visualização simultânea da curva de perda e das fronteiras de decisão."
   ]
  },
  {
   "cell_type": "markdown",
   "metadata": {},
   "source": [
    "- Keras é OO\n",
    "- Tem adição de camadas de neurônios\n",
    "- Permite usar diferentes otimizadores"
   ]
  },
  {
   "cell_type": "code",
   "execution_count": null,
   "metadata": {
    "collapsed": true
   },
   "outputs": [],
   "source": []
  }
 ],
 "metadata": {
  "kernelspec": {
   "display_name": "Python [Root]",
   "language": "python",
   "name": "Python [Root]"
  },
  "language_info": {
   "codemirror_mode": {
    "name": "ipython",
    "version": 2
   },
   "file_extension": ".py",
   "mimetype": "text/x-python",
   "name": "python",
   "nbconvert_exporter": "python",
   "pygments_lexer": "ipython2",
   "version": "2.7.13"
  }
 },
 "nbformat": 4,
 "nbformat_minor": 0
}
