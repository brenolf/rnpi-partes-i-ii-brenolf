{
 "cells": [
  {
   "cell_type": "markdown",
   "metadata": {},
   "source": [
    "# Regressão Logística usando Softmax MNIST prog matricial\n",
    "\n",
    "O objetivo deste notebook é ilustrar o uso do mesmo código matricial desenvolvido para a classificação das Flores Íris, porém agora com o problema de classificação de dígitos manuscritos utilizando o dataset MNIST.\n",
    "\n",
    "Fonte: Este exemplo foi inspirado no blog : [Gist Softmax por Arthur Juliani](https://medium.com/@awjuliani/simple-softmax-in-python-tutorial-d6b4c4ed5c16#.98wxaxxsc)"
   ]
  },
  {
   "cell_type": "code",
   "execution_count": 2,
   "metadata": {
    "collapsed": false
   },
   "outputs": [],
   "source": [
    "import numpy as np\n",
    "import matplotlib.pyplot as plt\n",
    "from IPython.display import display\n",
    "%matplotlib inline\n",
    "from keras.datasets import mnist\n",
    "\n",
    "import pandas as pd\n",
    "\n",
    "import sys,os\n",
    "sys.path.append(os.path.abspath('../src/')) # para importar nbpil\n",
    "import nbpil"
   ]
  },
  {
   "cell_type": "code",
   "execution_count": 3,
   "metadata": {
    "collapsed": false
   },
   "outputs": [],
   "source": [
    "def oneHotIt(Y,k):\n",
    "    Y = Y.reshape(-1,1)\n",
    "    i = np.arange(k).reshape(1,k)\n",
    "    Y_oh = (Y == i).astype(int)\n",
    "    return Y_oh\n",
    "\n",
    "def softmax(Z):\n",
    "    # computes softmax for all samples, normalize among classes (columns)\n",
    "    # input Z: scores; shape: samples rows x classes columns\n",
    "    # output S: same shape of input\n",
    "    EZ = np.exp(Z)\n",
    "    S = EZ / EZ.sum(axis=1,keepdims=True) # normaliza nas classes - colunas\n",
    "    return S\n",
    "\n",
    "def predict(X,W):\n",
    "    S = softmax(X.dot(W))\n",
    "    # escolhe a maior probabilidade entre as classes\n",
    "    Y_hat = np.argmax(S,axis=1) # mantém o resultado como matriz bidimensional\n",
    "    return Y_hat\n",
    "\n",
    "def getAccuracy(X,W, Y):\n",
    "    Y_hat = predict(X,W)\n",
    "    accuracy = sum(Y_hat == Y)/(float(len(Y)))\n",
    "    return accuracy"
   ]
  },
  {
   "cell_type": "markdown",
   "metadata": {},
   "source": [
    "## Carregamento dos dados do MNIST, disponível no `Keras`.\n",
    "Este exemplo utiliza 500 amostras de treinamento e 100 amostras para testes.\n"
   ]
  },
  {
   "cell_type": "code",
   "execution_count": 9,
   "metadata": {
    "collapsed": false
   },
   "outputs": [
    {
     "name": "stdout",
     "output_type": "stream",
     "text": [
      "X.shape: (1000, 784)\n",
      "Y.shape: (1000,)\n",
      "Y_oh.shape: (1000, 10)\n"
     ]
    },
    {
     "data": {
      "text/html": [
       "<head><style>                table, th, td { border: 0px solid black;                text-align: center;border-collapse: collapse;}</style></head>                <body><table border=\"0\"><tr><td>                    <table><tr><td><img src='data:image/png;base64,iVBORw0KGgoAAAANSUhEUgAAABwAAAAcCAAAAABXZoBIAAABAElEQVR4nGNgGMyAWUhIqK5jvdSy/9/rGRgYGFhgEnJsVjYCwQwMDAxPJgV+vniQgYGBgREqZ7iXH8r6l/SV4dn7m8gmCt3++/fv37/Htn3/iMW+gDnZf/+e5WbQnoXNNXyMs/5GoQoxwVmf/n9kSGFiwAW49/11wynJoPzx4YIcRlyygR/+/i2XxCWru+vv32nSuGQFYv/83Y3b4p9/fzpAmSyoMnohpiwM1w5h06Q+5enfv39/bcMiJVF09+/fv39P+mFKiTtd/fv3799jgZiBJLT69t+/f/8eDuDEkDJf8+jv379/v7Ryo4qzMDAwMAQGMjBc3/y35wM2V1IfAABFF16Aa0wAOwAAAABJRU5ErkJggg=='/></td></tr>                    <tr><td align='center'>5</td></tr></table></td><td>                    <table><tr><td><img src='data:image/png;base64,iVBORw0KGgoAAAANSUhEUgAAABwAAAAcCAAAAABXZoBIAAAA/0lEQVR4nGNgGHhgPP/vfCMccgbv/vz58xa7nNnjv3/ev/xjyYYpxWXz4M/fP6dC/vytgggwIUnOPCDDwMBgxHOQQRdD0tibkfFQKeOL85OYGLG5ZTOPd6UoA8Pfz2gOVlv69+WFEAj775+lKHLsm/58cBeWgUkeRpG0/PPHHs5Blzz2dx+C8//vEWTX+hj834SQ/Pf/ArLG0D/PJOHWt//dxYMqeR8u1/znoTsDquREKMtg6Z+1DKgg7O9DCKPo3d9FaHIMoX9+TjKQDd308O/95RaYkn/+PL3+58+fI03oUgwMMsf//Pn758/LiZhSDAwMkg1//v7pVcUqR1cAAKxwbkTVIzd2AAAAAElFTkSuQmCC'/></td></tr>                    <tr><td align='center'>0</td></tr></table></td><td>                    <table><tr><td><img src='data:image/png;base64,iVBORw0KGgoAAAANSUhEUgAAABwAAAAcCAAAAABXZoBIAAAA1ElEQVR4nGNgGArA+YU6AwMDAwMTAwMDg10gqqTpGQaEpEMQihyTohwjgndnMYqk9L9FSDqZUE2dw3AbIaknjirJz7AbIenFiSInrsjwFCGpznAVWbJH/NZnCIuFgYGBgeE0XIbPI8aNofkDsqQQAwODPpOzDFs00/eTP1nOQlUyMjAwTEv/8IiBQY/xz7drJ88cfPlEkI0BoTProRUDA8OjjddOMDAwMKSJ3mPACVb+64QxmbBIb8AnyYBHklEVj+R/JjySDJb4jMVj5/b/OB1IJQAAg3ksR3QPgSAAAAAASUVORK5CYII='/></td></tr>                    <tr><td align='center'>4</td></tr></table></td><td>                    <table><tr><td><img src='data:image/png;base64,iVBORw0KGgoAAAANSUhEUgAAABwAAAAcCAAAAABXZoBIAAAAnElEQVR4nGNgGPyg5u9/e1xyCV9+/7WDMJkwJOXZcRvq8ub3ZXkO7HI2T37/jsOlcfbfv3txyYn8/f3aCYecwtm/v+twacz4/XcHPw65gA+/D4rjMvTv37/zcRk6/ffv3+o45Azu/v69BpfGV79/H+HBJfn39+9IXHLz///9K4/Lxid/v/fgCHAGh99/76CLYcYnNskbx/ApoyoAAGeYO0QsY6cRAAAAAElFTkSuQmCC'/></td></tr>                    <tr><td align='center'>1</td></tr></table></td><td>                    <table><tr><td><img src='data:image/png;base64,iVBORw0KGgoAAAANSUhEUgAAABwAAAAcCAAAAABXZoBIAAAA1ElEQVR4nN3QPwtBYRQG8EMU0e0uZLIw+QKXRZlMGC0GX8CglE0pk0VxPwQmE5YrJYPVIjYMlImSwXNiMOi97319AM/6O6fzh+g/Y5hr5mrRNByseAZba4D7EnlSN8wy3uAYXJOwDEw0ohKwD9mtxehqRLQBCnZr8GPkJ/Ll79y0m37GiIjiK2AQsGMYiIbryyvjmZO20U9gAIcjTg43GhfethOROToO+En6xRUlZhnSjd+I6BY7xVIRY79w4XapR9IOSTWWYSWUqE0xlH771R7UrULefm5U2pxVCt0AAAAASUVORK5CYII='/></td></tr>                    <tr><td align='center'>9</td></tr></table></td><td>                    <table><tr><td><img src='data:image/png;base64,iVBORw0KGgoAAAANSUhEUgAAABwAAAAcCAAAAABXZoBIAAABD0lEQVR4nGNgGGSAEY3Py+Mt1vsTq1LF6Rf+/PkzCZuUxowvf/4+uPznhQaGFP+M93/+/Lkhr/rnjw2GZMKfP3/+3JRlQJJkgkuGMjA8WO36mAHJTBY4KzVt151XDAwM4ti9BQFzEcayoEjkcTP+12U4dhxTC5fp5r9////9+0QZQ4rV7PGfz09Wffrz53kpG5ocm9+fP7XWDEIX/vz58yecHVVf+58/WwQYRE///d649s+fHU6GhnA55o4/H7MEGUxP/LnhyMDnsfjjnz/34ZKZfz5FCHmu+vKnTpaBgYGBIXLLFlW45PM/X8/e+PPnTw0zFo+f//Pnz59NJSqovoZGNm+A0at5739h0Ta4AABroXIjERrLHgAAAABJRU5ErkJggg=='/></td></tr>                    <tr><td align='center'>2</td></tr></table></td><td>                    <table><tr><td><img src='data:image/png;base64,iVBORw0KGgoAAAANSUhEUgAAABwAAAAcCAAAAABXZoBIAAAAh0lEQVR4nGNgGGAw8f9leVxyCm///nFHFmBCYr8+hKYaWfLrQzySAvp4JLnkGBhMcbqo9u+fPzm4JBnQJJlQJJkYGZG5LCiS//7jdBAGIEGSiZHRDqfSv3/+/NHCpXMGAwNDGi7JG/hcwHDr79//yjh0Mlz9//8fLmMZZqHw0CSvXcdrKx0AAOciI63Ko1kqAAAAAElFTkSuQmCC'/></td></tr>                    <tr><td align='center'>1</td></tr></table></td><td>                    <table><tr><td><img src='data:image/png;base64,iVBORw0KGgoAAAANSUhEUgAAABwAAAAcCAAAAABXZoBIAAABEklEQVR4nM2RMS+DURiFn/ullKXC1KWJyVId2ARBQpqUHyBRC0NjsPsPNktj0F9QEgYiIvEDJG3CYhEpMTBI2qEk5+YzfP1uuD6bwVnum3ve877n5IV/jLH8Vmittfao36fyuw8tWUmSahmPPJEUk5oGIOXIixIvNRMyNZewMZXLZQEyLame9pR6jN7iMDx9JFtevZTk+4mwdtuVdD2IN3Z0fRFmQmjvnHY9TeE+jnLs/gJXGWOMCYwxKyUXIC5u5svn78DmdrJRAIYkpwx8svizv2+5536j/UUZYfZMOYCR8pvUWXAeAWiOU+0AS5MhV9XD78pm71Kyz/sD/sqJA0nSXWOvkBAgXXlVvZL9Jd4f4xPJmHJ5CeNkqwAAAABJRU5ErkJggg=='/></td></tr>                    <tr><td align='center'>3</td></tr></table></td><td>                    <table><tr><td><img src='data:image/png;base64,iVBORw0KGgoAAAANSUhEUgAAABwAAAAcCAAAAABXZoBIAAAAc0lEQVR4nGNgGMyA1f4obkmRf88kkPlMqNIS+CQZGfBI/ufEI8lgjFPyz0cGZZySHw6jGoNuLF5JYXySfrgl9+Mz9hEDqzxOyT8MjOy43Xft3zTckhM+cuA0loHh/y88knwBuI199l0Dt85Dt77j1kktAADVQhZzhi0BcQAAAABJRU5ErkJggg=='/></td></tr>                    <tr><td align='center'>1</td></tr></table></td><td>                    <table><tr><td><img src='data:image/png;base64,iVBORw0KGgoAAAANSUhEUgAAABwAAAAcCAAAAABXZoBIAAAA7klEQVR4nM3QsUtCURiG8QdRFIKEoCHIGtouSM4SRn9CixE0REtjS4tu0tLm4tIS4tLeFqE0FNjukIqLDrchCBq85H1Pt6Gl7vGs4bed78cDHwcWZtodgMRcqxeHzu4y+Cg78UH39rJ0twJw+NbftvHF7AD0ov2f95+DplEGKGx8ZezwIuytwtKNnlKW5V6DXeBKY7vLD1UHzj91GqfksYlMt5pee55dW92RZPpSdyLfsoMw8PcKbckonGzFsDM6AbxHGakVL89yAKV3lT1v2T4WyDbMYC4AVOSvu2xzFNac4UDN2ObXxze5dYb/N9+FeFNxEamP7gAAAABJRU5ErkJggg=='/></td></tr>                    <tr><td align='center'>4</td></tr></table></td><td>                    <table><tr><td><img src='data:image/png;base64,iVBORw0KGgoAAAANSUhEUgAAABwAAAAcCAAAAABXZoBIAAAA5klEQVR4nGNgoD9gRGJr+aSevsAw4Rc2demf/v379++fE1ZDhF78+/fv3793blhlM778e/Dv379e7A44/+/Sv3//lLBLhpz79+/fP00cbpe4+O/fv9VwLguyXLSeDgMDw1Fs2jSu/fr3D8VOJoSkpiLEmAKsNuZ9+/cPp52TbgswsEzmw+FYBgYGxoZ/t+VxSbL/+3dNBpdk179/JehiwhujGBgYGBgkP2AJviX/rturMBhHnvv3r5sDXdLy6L9/97Z8/Pfv71VuTLt6Mv/9+/fv3783yIIwf5aw8zAYRDJ8xB7TdAQABFdhZWAfWxoAAAAASUVORK5CYII='/></td></tr>                    <tr><td align='center'>3</td></tr></table></td><td>                    <table><tr><td><img src='data:image/png;base64,iVBORw0KGgoAAAANSUhEUgAAABwAAAAcCAAAAABXZoBIAAAAm0lEQVR4nGNgGN5AXqPx1av5WKVcpr3/9/fv3+tYpOac/Pfv38dpSRyYUsKz/r05Hawuh9XICX8n8mB3B1fjPT9/LMYxMDAwMLT9XY5LioHh/z8/nHIMJ/8+csUuY87GINTw96MmFinJs69jGBhE/v61wiL5/GsOAwNDy9+dfFgkK7/++/fv5r/7RlitLFn68uWrLerMuJ07tAEA5ps3qzSdZC8AAAAASUVORK5CYII='/></td></tr>                    <tr><td align='center'>5</td></tr></table></td><td>                    <table><tr><td><img src='data:image/png;base64,iVBORw0KGgoAAAANSUhEUgAAABwAAAAcCAAAAABXZoBIAAABDklEQVR4nM2RvS9DYRjFT3030TChi6TuYBJKkFgkNWlCYiHRWfwHBglmTf8AH4lRrIauV0fEjbSTNgaLRCQGHSiuH8N1w1tvN4MzPXl/z3lzTh7pnykiqXOpNhbLFG4l3R1f1C1k+ZZfWk8YzusB6aEkqTzYnZTm8j+dTtpx4sEYu4HdRhGW4Xncjtp2niBpZ6kDeFntsLKJN6CWbrXCXFDmfGPIAqfy919dcz0W3D86u/8OcNJkT5U5BVizQ7UUgD1J0m+/70mqmDC+uRgMzcOSf2bs9xXpkiT1bgNF87MjGIlK0a1H+KhOm3AF8FzXA6jO1MVIHIbnfs1Oho+RcGhfSFXmdSW3fNmg45/pE8oAf9wKlFhvAAAAAElFTkSuQmCC'/></td></tr>                    <tr><td align='center'>3</td></tr></table></td><td>                    <table><tr><td><img src='data:image/png;base64,iVBORw0KGgoAAAANSUhEUgAAABwAAAAcCAAAAABXZoBIAAAA+UlEQVR4nNWPoUtDYRTFTxC0CIJhQcS0l8aYGPSF8TBOhWX/gxXZUxSbQcOKzVWbJmGMLQ/TXDVtZbyhbGEWnwtazvEzCML7tq+teNLl/rjnngPMTV704mQ3b6w7UKotPq86LBvU2a7j0Cd16MwiFV1hrthcc7Gnz346uVn4m4rb5uHLAVfywPsQQHkdp7bp8qPRDnByHEnGfn1ADdLI1chJV52N5OERh5fw7jW+2wzUTcICeYFUg3F1MdOLq0nXcxJokwF88tp6WVENuZFCeJHCqSrGAN8m+7o0yH/YTXzSL8Wkxns2ArYmFEnaWX613xJ5Gwaz2P/QDwv6bXmT2FBqAAAAAElFTkSuQmCC'/></td></tr>                    <tr><td align='center'>6</td></tr></table></td><td>                    <table><tr><td><img src='data:image/png;base64,iVBORw0KGgoAAAANSUhEUgAAABwAAAAcCAAAAABXZoBIAAAAbElEQVR4nGNgGMSAccUnGZySXE/+paAIMCGxv91iEMMpyTCVQQO3pbL/fkji1MnAyOaHW/I/AxtuSTRAgiQjPsn/+I29hE/yLpkOYmBgxyfphVPy5TU8xv76zuCK29gLDDy4nadwPAO3JNUAAMpqE3FnHzNvAAAAAElFTkSuQmCC'/></td></tr>                    <tr><td align='center'>1</td></tr></table></td><td>                    <table><tr><td><img src='data:image/png;base64,iVBORw0KGgoAAAANSUhEUgAAABwAAAAcCAAAAABXZoBIAAAA5UlEQVR4nN3PMUuCURjF8aODg1AoOdjk+CbOTg0SRps0tNnukNHi1BcIHFwbaowgGl3EoJBGwaFFCsrKT6BBGPW/5CLF+3KfL+CZ7uV3H+5zpKVJLHJvJPL7eix4Xpbq1z8A38MIrPfG4ymuD8B72LZfAQjWgq036ITxBvg8LEo6hedMyHY+YLQpSWpDKzzYhfuyJKWrk8XpP3uDu6wk6Rgesp4iklSZ8XVgmBzULDv5dS4wLNFx1ON+S9ZwFym/rVzBkTGnPDxZy2ycM8xZeAnRhn9/FFZ1dmsNNnmxGkpldk3zZg5Mtl9waa8xrgAAAABJRU5ErkJggg=='/></td></tr>                    <tr><td align='center'>7</td></tr></table></td><td>                    <table><tr><td><img src='data:image/png;base64,iVBORw0KGgoAAAANSUhEUgAAABwAAAAcCAAAAABXZoBIAAAA+klEQVR4nGNgGMQgdsnlX78O8WOTEtnw9+2WLZ//XcMmeeZNuxADg8anP3WYcq5/lzMwMDAwNP27DxdjgjFY76xgYGBgYFjDwMGHoZODC0Kr//uXgaHzxzcIfe8agyqGJAz8/o1gY0iyczB8xnQuA9xOCwYGEecadQwpduWkf/8uzD3/8N/HBQwMjDBhTjFjcycGTi0GBoa/TxgWbH2L8C5n57V///79+/Dk179/s4zQjNv57/vmSc42Mgw3/t3hQbfr/z1DBgYGBpbOLy/Q9TEw/DvHwsDAwLH533cHTA/c+DdvY1PC1T/HDbF5r/n7z58/V3tgkxpEAACefFmwfI1N8AAAAABJRU5ErkJggg=='/></td></tr>                    <tr><td align='center'>2</td></tr></table></td><td>                    <table><tr><td><img src='data:image/png;base64,iVBORw0KGgoAAAANSUhEUgAAABwAAAAcCAAAAABXZoBIAAAA90lEQVR4nGNgGAKA+/RTBQYGBgYGFjQJKVGG947GN99iSOrmyjOoyTF0aDE+ZcMwLu/v37/fFj75+/dfDIZcw9e/8zpFGQxe/n3JgSHZ/e++JAODyqp/X7IwHWl+5e9CbqlNf98UYvEB++y/TwLu//2bi9V/vX///v33d5YsVsm8v3///tushlWOefW/f/82I4sgBcKKoP8MDP+x6pOq/vf39Jy/J7BKxv79V8kb+3ceNjmH9399OBRu/61DFmSC0q78h7b89eFnfINN8v///6wBE5nmTMNm7My/Kw/8/euL1TkMBX///nvTyIldUrDs835sAU4LAABuqmGniXwGlwAAAABJRU5ErkJggg=='/></td></tr>                    <tr><td align='center'>8</td></tr></table></td><td>                    <table><tr><td><img src='data:image/png;base64,iVBORw0KGgoAAAANSUhEUgAAABwAAAAcCAAAAABXZoBIAAAAw0lEQVR4nGNgoA9QWvlLA5ec1ae7/YI45Ly/93Ph0qf6dQcTLjmOAyf4cDqm+7sMTjn259txyjHUfjbCLXl4B24529+aDAwMDtpYJWdcYmdIePvvezY2yV8hDGz3Q3jDv3lgymn/C2CwmM7AwDD5IKak8z9NBl5hBgYGrb8wIRYk6ScMnyEUDCCCkpERyrD/jCn5/z+EZs1YjGmn5NNMBgYGBtY5V0WweCX7WyafYfzNi9JY5BgYsr/9/fuhiQ2r3OAAAO+sNJqmm38ZAAAAAElFTkSuQmCC'/></td></tr>                    <tr><td align='center'>6</td></tr></table></td><td>                    <table><tr><td><img src='data:image/png;base64,iVBORw0KGgoAAAANSUhEUgAAABwAAAAcCAAAAABXZoBIAAAAw0lEQVR4nGNgGKZAKPPx379V2OUsj//98+fPn/nY5EQu/3kxw3P5n+tsWCSP/tnGwMCg+vqzPlSACUnyO8NGBgYGBoZPb6ACLEiSjIzvOZQTjF9EPcVi7Is/J07++ROC3bFXv/75++eTFnZJBouQv38W4JBjYND9+0cNicuEIqnDxMiAU/L7vwO/cJmqufkFDrcyMPA//FOM0zkz/yzBKefy9bM/LjmFt1+DcMlxTvmzEqehWX+PsOOSM3vSKINTI1YAAAjUQy/e2JANAAAAAElFTkSuQmCC'/></td></tr>                    <tr><td align='center'>9</td></tr></table></td><tr><tr><td>                    <table><tr><td><img src='data:image/png;base64,iVBORw0KGgoAAAANSUhEUgAAABwAAAAcCAAAAABXZoBIAAABAElEQVR4nGNgGAxAbZ8kjMnEwMDAK8mFJOlll8KCxG35U4jEs/3zRwVJJwNDvT9CUhzBhEjyzDeBCfAUMTCEIUneZ2DgaxSECqiaobqPufbPnz8pUI7ULYSdDAwMDAz8N/78OS8MYRv+QUiyMDAwMHw8qsKgK/uWgYEtnSEUSRPES8fjGRgsL1hZ8dQwMDAw3HiPau2Sv3///v379z+ESkbxCkPv/////////w9CWaAYCwN3/m/9WMeADgz//Pnz6kwklDUbVZJv3oHpunBlDwUxdCPM+COO4iAE+PCCgYGhjQVdGArMn/7584cbhySD6Ys/f+xxSTJEnWvGqZPmAADYhmA75IA5CwAAAABJRU5ErkJggg=='/></td></tr>                    <tr><td align='center'>4</td></tr></table></td><td>                    <table><tr><td><img src='data:image/png;base64,iVBORw0KGgoAAAANSUhEUgAAABwAAAAcCAAAAABXZoBIAAABDklEQVR4nM2PMUtCURiG33sSJ8OiwcHBJTCioamlQaE/0NAo1/MHJFyCxpbm/kJbDQkObbfbUltO1iAmTg6JQWBI8PIdW252zr23VXq38z2c730+4D+kKvPKX0x3KJ3jTDq7I4UsJcladfhJdl/S4OEthaSvf6C1vHYJKAAeVDRRv+zCzIZjY2ZTGBPfKWQATTag4536Q6bBNvRTI4PcYwwOKKcANgsAELpCu6tqBQBeAQCesoV2btYth1zWEQpJWv2uUEg2F4+tMfsF9873BWtvTI7erJ/3IhL1tUT65WjsAQAOrvN4mLd7J1527+u81XOuRGVCIUlh4COR4pmQ5Ogqn2QA6s/s+vupaJn5Bun4eClMjvn5AAAAAElFTkSuQmCC'/></td></tr>                    <tr><td align='center'>0</td></tr></table></td><td>                    <table><tr><td><img src='data:image/png;base64,iVBORw0KGgoAAAANSUhEUgAAABwAAAAcCAAAAABXZoBIAAAAxklEQVR4nGNgGMpAfsKvf8twyCV9PJNY91cDmxRb5fdWAQajv9LYJNP/5jIwMFQ8xyYn9GolCwOD/B1skizXrwgxMDAc/teNRTLirz0DA0PU70/iWCS3X2NlYJB4+bcVm5X/ahgY+I7+ncqHRc75ny6D+4N/t/ixadT9du3xj4//87HJMTDEHVzu92gvB3ZJBgbGiT9NcckxOPxtwinH8OwxD045k18ZOOU4zt3nximZ+VcXt43XzrOgiTAhmEKz/+DWSSIAAPwpPX3qfinRAAAAAElFTkSuQmCC'/></td></tr>                    <tr><td align='center'>9</td></tr></table></td><td>                    <table><tr><td><img src='data:image/png;base64,iVBORw0KGgoAAAANSUhEUgAAABwAAAAcCAAAAABXZoBIAAAApklEQVR4nGNgGPyg8l8HTjneZ39/JOOQYyn7+/ehFg5J279//3rhkFM49/fvLk4ckpf//n3viss5//7+bcUl1/f/7y4OHHJTn/47L4pDzuzp33+ZuAyd8e/fVSkccgW///7FJSd75e+vqTjkVK79/duJy0Lvv3//WqMKMcFZQgwMB67h0vng798QXHLar//WMaKJwY214GX4+R+XToaHrw1xylEXAAChnz63S77RVwAAAABJRU5ErkJggg=='/></td></tr>                    <tr><td align='center'>1</td></tr></table></td><td>                    <table><tr><td><img src='data:image/png;base64,iVBORw0KGgoAAAANSUhEUgAAABwAAAAcCAAAAABXZoBIAAAAzElEQVR4nGNgoAtYds8ct+TRf7dYccnJ/vz3jxPOY0KVFGBl2PATh0aWJf/+heIyddI/FEkUY1OTcbs08ce/Myg6WSAUj766aZggQ/6221g0ad749+/9TFUWBWw6r+urMnx6xMDAwMDAjdNa4Wf/1uFwLQPD2/sMB3BKMjAwPMcj+f8VVklVMzNdqf4HoqLyi/xQNbBp9n759+/Hm3///r18/68LxSviE8IZGBie/796kYGBgYFhEYrGwn///m12wBHNChe3J2KXGVQAAFcfRo9Hh5C0AAAAAElFTkSuQmCC'/></td></tr>                    <tr><td align='center'>1</td></tr></table></td><td>                    <table><tr><td><img src='data:image/png;base64,iVBORw0KGgoAAAANSUhEUgAAABwAAAAcCAAAAABXZoBIAAABEklEQVR4nMWRPUsDURRER6ME8WNJIwpCIqxghCRqFzt7rcRqq5RmSyslfhTpLGwlf0BQEAlWEkUtBIv8APGxxk7ESliL4EELk7jBV+tUl3u4MwNX+metePufl968hQzMnb0DYCqJWDfK+lV+tJ3pgj7AozHGhABFSVJvm57quZxxXdfd+J2YGJlOfU954G3VWrh/rwGsWdliFeBhzMYKTYCdnAVlt5pAeDxpSUvfQzMM122WJeDK3mQwZ6A2bmXygYthO0s/wfmoJCk5c1Kv168XJPVJkmaPJiQz9aLdmLykJBVuO4dDBwCvQfDR/stmxDZ+SFSlYjwaulRr7Rt5x3Fav+rpOC+nyqrcKLizV/4rfQGHIpJ83K7MnQAAAABJRU5ErkJggg=='/></td></tr>                    <tr><td align='center'>2</td></tr></table></td><td>                    <table><tr><td><img src='data:image/png;base64,iVBORw0KGgoAAAANSUhEUgAAABwAAAAcCAAAAABXZoBIAAAAzklEQVR4nGNgGNpA7qkOjMmEEFWTY2BgYGCY/uszpo7AT4UMDAwMlj8bsRi3ZhEDAwMDQ8dfPbgQwljrFwwMDAwMUowMmJJSHP8ZGBgYGIK//cCUfPaem52BgYGB89Zddkw7u/6uVGJgYPj3Yb8rpqTgun//Vy48/P9fIRbXMjBHrT137v4/XxZskgwMDAwMsf/EsbgWCpRwamNgYD9ziROnpMTfNtw6k/8aI/HQ7DRiOItTo/6/w8hcVJ2C/8/gtrLrFS9unQy3sKQCcgAAmCYylj0q+AYAAAAASUVORK5CYII='/></td></tr>                    <tr><td align='center'>4</td></tr></table></td><td>                    <table><tr><td><img src='data:image/png;base64,iVBORw0KGgoAAAANSUhEUgAAABwAAAAcCAAAAABXZoBIAAABGElEQVR4nM2RzytEURzFP/OLDEmanTI8P0bYTJY2k43d9IiFbNjZm9j5DyxIspjChuS/oMikrJQsLdQ0qFdTMnUei/ee7vOenYWzufd7zzn3nu/3wv9Fh3336bruqm1P+icJbylsQnYxkN0vPJquJ4Xg7AKQ9MgzwKl867tKE4azYFlWP/k967YhSXopGeRysBm6lqTmXCRu52Ct9iBJzlKUO/XjvM1H++wLsq7EDKH3xiefi+EhADA8BccZYHsjxgu0H0hqTXtF8gf5ceJAKhExeRioS/tt8c6R8xw0W16RBpjZgbU6Tia7Pps3lGmA7nG4gKvcKABHl+Zdtvldr42x0EPF6ntAHVZ7IhkrkqStcjn1SxN/iS/MNoWNCuqwjwAAAABJRU5ErkJggg=='/></td></tr>                    <tr><td align='center'>3</td></tr></table></td><td>                    <table><tr><td><img src='data:image/png;base64,iVBORw0KGgoAAAANSUhEUgAAABwAAAAcCAAAAABXZoBIAAAA+UlEQVR4nGNgGJQgYO+////+/VuXKm/EgyH36S8U3Hh07sQJKxTJ1L8o4LEpsuRvVMm/P7cKMjAwMDAwMjAwMFTFMJyYz2CSyqDCDFVucBnTYZnFxW///v37928jdofzSqz4+PfvcRzeYkr7/PdvOA5Jgb9//x4Vwy4ntu3v39+pWKWYk4/9/fsdh3OS//79+3c/VqnSB1/+/n0vJ45Fymrl1b9//x71x6ov7O/fv586BbDbd+Pv37+9dhxIIoxwFusrPgYGBob13xgY5p34/xNVY8B3pHg57oRmbPzxx1CpO89Ovsaw1SQ5ed3fv3+r1C3FkrG7iyoAAH3ClZcvv1K8AAAAAElFTkSuQmCC'/></td></tr>                    <tr><td align='center'>2</td></tr></table></td><td>                    <table><tr><td><img src='data:image/png;base64,iVBORw0KGgoAAAANSUhEUgAAABwAAAAcCAAAAABXZoBIAAAAsElEQVR4nGNgGBmAEV2AWYmB4dFPGM8PIcEXsm3PwX///tXAdXJ+h7DEXNXtbRnObfQxZfjBhW7etX////1fK8aQ9O//DAzbr3495i3PxFD69d9dSQxJDxUGBgYGv2//7inicHzp538PVXHI+f78d8cTh5z3p38PcOnz/v3vNi77fD/9+6eBQ0724r8XwRihCQEij/49sMehj8H+3y8rXHIM+l/W4ZRjYJDjwyNJPwAAPyY7Tt0Fy24AAAAASUVORK5CYII='/></td></tr>                    <tr><td align='center'>7</td></tr></table></td><td>                    <table><tr><td><img src='data:image/png;base64,iVBORw0KGgoAAAANSUhEUgAAABwAAAAcCAAAAABXZoBIAAAA4klEQVR4nGNgGDaAkYGBgYGBm8PHACow6T6qgqipF/7CwU0xVJ3///17zHD49XUGBgadPIaSfrgkCwMDw62fLasgPFk7BoaHOBygePrv33W8WKW4/F78/ftXG8O1DAwMDAxdxQwMDAyHvzCcWfAAQ+c6uItXMmPo1BJmYGAQi50v38l2zPEPFnutD8gxMBid/quFRc7isCUDAwNDwd+nWCTXnBFkYGBgsPrxF4vkgb877BgYQpf8xSY54e/fz/fv//r7NwGLJPsMiF9mMKN7hYGBgYGNJ0OYgeHUqv9YdA4CAACIB1jxwhTsdQAAAABJRU5ErkJggg=='/></td></tr>                    <tr><td align='center'>3</td></tr></table></td><td>                    <table><tr><td><img src='data:image/png;base64,iVBORw0KGgoAAAANSUhEUgAAABwAAAAcCAAAAABXZoBIAAAA8klEQVR4nM2PMUtCYRSG3+I6WhlocmlxSRCLoF1IcqpfEEE2SVuTk7OjP8A9wZaS4I5BiyAURVNLpVxUEAuHhuDyQIMGaWd06F0O33m+95z3SP9MC1Ov1Jm732iqOrK+VgBgWLCcvquHrpS92zWcPs8xac3/yEcteC9FSsCFBQeZ1RYQHFpwrJeCuRPgMR4yWHIIBCcrBnJybRjVtwykRBng1ELa6QCw97u3OKnbV+uiMWP4geeuvNytOVNHQSscUm1m7OSGV5qSvuhPZXUkSctRedo4dnT59NdZhPfrN7hZMlamewB8HpiBNvuAl7XTzlvfUVBwe6w8SfYAAAAASUVORK5CYII='/></td></tr>                    <tr><td align='center'>8</td></tr></table></td><td>                    <table><tr><td><img src='data:image/png;base64,iVBORw0KGgoAAAANSUhEUgAAABwAAAAcCAAAAABXZoBIAAAAzUlEQVR4nGNgoBZo+f+QB4cUc8O37Q16OCSj/7XhNNPs9Rl2ZD4TMidDcM1PXBrtfy9FFUDWqcP8FKeNDNueauCUE3zRiiaCZGyJ2BPcpt74J41TTujxIWYISw5T0upfMQMDA4Nk9+xPrxsw7GS4wcDAEHy8gGGZcDCmzgwGhqCfN20YVP9VYEp6MAh9n8/HwH7ynyu6pPL7yYyssz0YWA7+rWLD4pVEBgZez4f/KrH4xf/Lj0ePnv/7XIypj4GBoWjjv3+vZ2hjkxoKAACn7EAeExf48QAAAABJRU5ErkJggg=='/></td></tr>                    <tr><td align='center'>6</td></tr></table></td><td>                    <table><tr><td><img src='data:image/png;base64,iVBORw0KGgoAAAANSUhEUgAAABwAAAAcCAAAAABXZoBIAAAAzklEQVR4nGNgGK5AN/3fv/87PLFJha78+vfv379/nyViykW//LsgMv7F379/azEld/8tZWdg6/j093cBRIAFSZKX4c9vn/9W3AxLJmDq3Pj3/ZMbf//+XcuFxT3SJ/7+/fv37980rB5h4+NP+/t3PitWSQYGzRt/9wnjkJOb+feHMQ45hri/fyoEccjp//ozBZc+yW1/T+OSYzj3944RDinmmD9fsnDpM3r0MReXnMbrv50SOOT4L/zdJ4tDTu7Wh0lsOORYFix3w2UfLgAA0WhRWVhclykAAAAASUVORK5CYII='/></td></tr>                    <tr><td align='center'>9</td></tr></table></td><td>                    <table><tr><td><img src='data:image/png;base64,iVBORw0KGgoAAAANSUhEUgAAABwAAAAcCAAAAABXZoBIAAAA7klEQVR4nM2RL09CYRjFf96hRaabIzsngWazamRuRpvNDQns8gEYY8PNRLKAdqtFGZ/CDyCSMGiVQjl73tcA417vfWkGTzvPef6cswf+N469mbXXiEOTpLuTgHQwnpkkWWPBC2lx8/B3c5QmXYDaw4qnJs+GwG2HnSjayK91QAe8w+fWdoFP2CqFbr4C1xC3Ajkw6akE4yRKgpG3N4B3s1HW7WnFOQ9c7DkG2ZtH+wBsn+9Se8kbgmfoXcJXzk4sU5mbpasMmubtqm/eHgNBYi0eonJSW7n9nhcBJvcfgUnqJkkhBaCtabW6TvxL/ABt8Vx6PZqFmgAAAABJRU5ErkJggg=='/></td></tr>                    <tr><td align='center'>0</td></tr></table></td><td>                    <table><tr><td><img src='data:image/png;base64,iVBORw0KGgoAAAANSUhEUgAAABwAAAAcCAAAAABXZoBIAAAAhklEQVR4nNWQwQ1CMQxDnxBrdA6URToHKnOUQTJI2CNiD3NAQEXbAX5ujmXLNhz+Sg8FcJ6YejEDnitNSlLUlaFLXpcM9HTbBamKMuLTCK48bKd0RUsvK8pCrdA1kL+eZrf7LgwUgNTSFoCmPv0+tVvmLHzv1aVV1lR66m+Cr21I3rfLHeNeksY4FPqDACQAAAAASUVORK5CYII='/></td></tr>                    <tr><td align='center'>5</td></tr></table></td><td>                    <table><tr><td><img src='data:image/png;base64,iVBORw0KGgoAAAANSUhEUgAAABwAAAAcCAAAAABXZoBIAAAA1klEQVR4nM3PrQ9BURzG8XNNMzab15tsZoKieAmmYdP8C8It/gNJpyBqMk0TbmGmGFUXBPOW2L6Hwrzcc6v5pbPns/P8zhHiF1My60Vb7CJNl42VT0h0tUX3IPtONXaAcUxtzS3wHrx3JH1Cdm1ek9hA7yNxvI5GSIilHWYtXa+dcV0TouDRWlfFygoAyJPpVdQ+xpU3fJYwswMWQwmM/RadA+1IagkY35Y7AKzTK2D2jfoEgBtwrlpqw9MnDhSfCTaOcINZ4BFoH+yuFS/uUW+nuPkXcwcjsGexHKWgfwAAAABJRU5ErkJggg=='/></td></tr>                    <tr><td align='center'>6</td></tr></table></td><td>                    <table><tr><td><img src='data:image/png;base64,iVBORw0KGgoAAAANSUhEUgAAABwAAAAcCAAAAABXZoBIAAABBUlEQVR4nMXQr0tDURQH8C+XaVmYgi8JKojgioIIFn3R8YKIUTCsGZw2/4D1oRgcrIvFH0EwalYwOdgQbMIMmqxfvvca9hzce7W6k+7hw/dwzwGGX5nesuRPJHn90xQ8GmumAJ5+z6WvIsnNvDUejhcBAK2NOHciyUmSq8VJZ621FweX1m5NBLnJ7U9+dM9Ko3WKs74ttkUeAZjjAAdj0/n80WsBqHt7FsvGdNbfAcAY0zn0pjZI7QH9se0F/7dLAJKRvKk++3gLYLUEzOzv4GY5WOSFfJxC//CVwHAuudOsKScdh4YGKZIUe2sR3uf41V2JDMkdRfJqNyYA0w9itRIe/P/rGyX0dE/6/fbbAAAAAElFTkSuQmCC'/></td></tr>                    <tr><td align='center'>0</td></tr></table></td><td>                    <table><tr><td><img src='data:image/png;base64,iVBORw0KGgoAAAANSUhEUgAAABwAAAAcCAAAAABXZoBIAAAAxklEQVR4nGNgGDaAkYGBgYGBQ5TBmlGVgYGB4feSZ3/RlKz4hwAbhNF0rpf9CeUzmzH4bkXVycUKY7Ec/NeN0w38//6ZwjlM+FyLLhmAzGFBkxRkeHSbwZuDgYFhLZqkJodQKYPMQwYexi/n1yHp5LZXc5HWYGdgYGD4/3TXtnt3kfSIvISEwMN//1BsZWBgYGDgu/WvvVhMWFju6T9hDEkGr2gOBgYGBobz2CRhAEUS3Z+fGBlwS67/j0cSLxCyZiZFOVkAAODUPBUEIEWEAAAAAElFTkSuQmCC'/></td></tr>                    <tr><td align='center'>7</td></tr></table></td><td>                    <table><tr><td><img src='data:image/png;base64,iVBORw0KGgoAAAANSUhEUgAAABwAAAAcCAAAAABXZoBIAAAA4UlEQVR4nMXRIU9CYRjF8bMrH+DC2OCW6wj6BdgYBKLRSuAbYNKNwEa5wUAxGhgJEslyjbrpoDCaxelLcGM4qRou5T8NjnJfXyKe+ttzTnik/44XfXdcVhpB7MIb2LQcdryAC4cVFkDddQhMCg7s7DANMUVJfj86tCeXtCVV5vCWTWOXr7qUjQGKaRzwJGkE0+stelvLn8pICvXRnFmTATSk8ueqpkerNoB75e/oqZ0YP4X+C8lJFaLLxBxZvQNYvwNwbpnCZ37Tzdio8OoVxme5gz9MUsk4vyLp9sFz437yA8/6ZY+KPaBDAAAAAElFTkSuQmCC'/></td></tr>                    <tr><td align='center'>6</td></tr></table></td><tr><tr><td>                    <table><tr><td><img src='data:image/png;base64,iVBORw0KGgoAAAANSUhEUgAAABwAAAAcCAAAAABXZoBIAAAAcklEQVR4nGNgGNxg0/9MnHJse/7e4ENwmVAkOfgYVDlxSf77y9D8HpeknBmD3C9ckmgAVbIQnyQrA8NXnJIMDAzTcNkh+PDva3lckhJ//27AbScaoJ7kJ5wq9f7+tcapM4ECO8+exSl5kuHgD3wmUQkAAAgEGYgZpvq+AAAAAElFTkSuQmCC'/></td></tr>                    <tr><td align='center'>1</td></tr></table></td><td>                    <table><tr><td><img src='data:image/png;base64,iVBORw0KGgoAAAANSUhEUgAAABwAAAAcCAAAAABXZoBIAAABBElEQVR4nM2Rv0tCcRTFD1GUg4RkQVu0lYZPHVoaHKShpprrP2iK/gbhiUPSD8TBzaChoeZGB5dS3j9Q8B49n0TTW6xzeQ6Cr/je1uhO994P58C5F/gfdRaeTpqZn/tMLrcOJI4m0+x3tFQ/nI8+toFX027nkRRyyxmmDLYXkheXzkrt880URvK0jFLtNpCWCYXNBFAmH5QENtmx8h5dS4Fz9+QgoFtQGLBok+JrOgA4EIl6v7CiR3/wnlVZ3qNrVdlQYUC3gCr78Xniw7fSOHkGkFwwdccSnQO4kjvF9IajfSAjL6vxbvqyDYRfu5sV9HxF2aaQ5LX5LQBFW9h11tQcf1ljmbBlAx++8fYAAAAASUVORK5CYII='/></td></tr>                    <tr><td align='center'>8</td></tr></table></td><td>                    <table><tr><td><img src='data:image/png;base64,iVBORw0KGgoAAAANSUhEUgAAABwAAAAcCAAAAABXZoBIAAAAnklEQVR4nGNgGKaAUSr/8DM5rFIy2Yf//fv3RQSLlN7yH//uTZr2bx2mlOP9b/9m2nIxGPxrRAiyQGmRC1/XbPrHwMDA8B23k7b9E0BwmNAkJZE56JIMZz7jlJTRfPAXp5XZ/2xxG2v97yFuSclLj/A5iAGnJJ/5G9xKo//54tYZwvAYtyTDp9e4jb1+D7dc8f8ZKHwUY4UZ1uDWiQ4AcI0utkmbHA8AAAAASUVORK5CYII='/></td></tr>                    <tr><td align='center'>7</td></tr></table></td><td>                    <table><tr><td><img src='data:image/png;base64,iVBORw0KGgoAAAANSUhEUgAAABwAAAAcCAAAAABXZoBIAAAAsElEQVR4nNXRIQ/CQAwF4Bcs9s6CPo2ehUk2jZ7lB0zi0XgkLEgsG3J2Iziwl8yBbG8ogmlJkDzZL02bFvjfjMvAobWiuYKYmI6SLfyzzkzMawl9k8Bm5c68C4OP5fZ8gDNR1wk47wFUUX8V1wntZlbw3UiIPTEx1aIB6ba+cKYgACYd0+BVcw+eqhiztg7gPCUq5l8m2hsvVSzkfwAAUm7kywEYtv1KbZzQaaTir3kBncVF8xKiyroAAAAASUVORK5CYII='/></td></tr>                    <tr><td align='center'>9</td></tr></table></td><td>                    <table><tr><td><img src='data:image/png;base64,iVBORw0KGgoAAAANSUhEUgAAABwAAAAcCAAAAABXZoBIAAAAqElEQVR4nGNgGEqAEUItfrgewnj0GlPN6b9/IPD+aU0MnQzp6rYMDAwMDNzq501wWmP8ZxFuN/z/G4RTrvpvE065lr+nRXDr+4NTrvDvA1sUARYktvr//5qa199cx6rTru/0539//yHcy4gqryGvYRtw3hSniz3+nsYpxzDjTyBOubR/V3HKiZ7GE0Zr/y7GKbf472ocMoVrWv724Qo/4xfT3XCaSRoAAFONPlayxFW6AAAAAElFTkSuQmCC'/></td></tr>                    <tr><td align='center'>3</td></tr></table></td><td>                    <table><tr><td><img src='data:image/png;base64,iVBORw0KGgoAAAANSUhEUgAAABwAAAAcCAAAAABXZoBIAAAA40lEQVR4nGNgGJ6Ae+f/v3+ftbTIY0pxun/68+fJ8z9//izHkJNZ9ufP6xgGvr4/f6ahy/Gc+fNqhg4Dg8HDP1sE0OWW/Hlhy8DAwLb5zx8bdI2Gf/74MDAw6Bz/g0Uy8s8TBQaG5Odf7vw5zQMTZIHSAQyvHRlyZTh1ahWOfUHXafPnz58/f06IcR97ronhEanmB3/+9HEzBP05gyEHA7x///bilAz6c0cFp+SFPwlIPCYUOQnd3+9waqz8exynnMKNL1I4Jc//+YhLSvHEzz8xuCRD//zpw2lo6J8T3DglMQEAunhan4UXu8MAAAAASUVORK5CYII='/></td></tr>                    <tr><td align='center'>9</td></tr></table></td><td>                    <table><tr><td><img src='data:image/png;base64,iVBORw0KGgoAAAANSUhEUgAAABwAAAAcCAAAAABXZoBIAAABBElEQVR4nGNgGGSAEZnDNM341Y21199jV6qx5vueF6+UsegUdBTWyv3p92DfVy10Tawtb//9+/fv3+eASz+U0SUX/76cLa5S8eFb0q1+dDn938sYGBgYGAS0916RxHDKr2t8DAwMDFxTfiVjOrTz36t0NgaGWQ9DsfiCWefwvx0Sja8xHAMFqR/+/XPCIcfAsObfvxwcUkyz/ibt+5eBXTL6XzMD75WHDtjkRN79k2VgMP9yWASLZNS/22wMDAwp//IRFsFZqgwzfzEwMGz+xY9FkoHhNAMDA4MUCwMWyb+/7jEwMKiVMT3HYqfsy8vFxe3/vjRh9Yrbm3///q1VwypHVQAALvRaUZw9BtYAAAAASUVORK5CYII='/></td></tr>                    <tr><td align='center'>8</td></tr></table></td><td>                    <table><tr><td><img src='data:image/png;base64,iVBORw0KGgoAAAANSUhEUgAAABwAAAAcCAAAAABXZoBIAAAAd0lEQVR4nNWRwQ0DIQwEJ6f0FXd27gxT2d7jQiLA/kbKfpAYYY8N/HncJUmWIY3Ac2F23md04LFAEZ2IvaI5ZJ0AmlRKmuQllNp69RUSRM9UYAxYVnYvFvOWmo2PCUYnSmivvF8zsNzo8xfbrMBgyTtwyVtKfp0LH7dOUqebPBYAAAAASUVORK5CYII='/></td></tr>                    <tr><td align='center'>5</td></tr></table></td><td>                    <table><tr><td><img src='data:image/png;base64,iVBORw0KGgoAAAANSUhEUgAAABwAAAAcCAAAAABXZoBIAAAApklEQVR4nGNgGLzA6OL/Nfw45Aze/Pv+xwuHZO6/t/JTP8gjCzEhsec8fMkXhUsSA6BLKmOX/M5gEhbC4IbdvWzz//07svJfMnYb2IyMJKP+7WfF6QTObf/ccDro+9xfVjh1MjCcPY8wF8Ofe/RFcEsyMOjhk1TFJ8mATdL1zrE0VEkWBNPlv8A06cWS2A1RYtU5/u/X39ci2KUZmEo//SvC5wqqAABiUS0j06pGDQAAAABJRU5ErkJggg=='/></td></tr>                    <tr><td align='center'>9</td></tr></table></td><td>                    <table><tr><td><img src='data:image/png;base64,iVBORw0KGgoAAAANSUhEUgAAABwAAAAcCAAAAABXZoBIAAABBElEQVR4nM2RMUvDYBiEzxacLAUFoe2sP0Ap3QziKIiLuIiDQQoKkgZnh07t0F1wcNNNVPQHdO+go2CVUKWDYANxKdyRDkGj6ZfNoTd93HHv9/C+wCTLcj8lhSVDtOf5Ikm9efXFH7c4DQBrPhmFJB0AQAbA+iwAPDUVwH84bgPo3ifHFmzLWTonxeeFdKDTo/Fobt8Xyc5B1tC7IMXrSiF2MvEzDwAfvX7sTP0C2sbKBoLNtmEqAODkXXJn0tLyDWVaX6T5nhoGoEj6wmNq85C6TFg7CkuA5dZepE7+b7YcUNWt2+hku4li7uz7WoO7ythPxYHI4atnr5o4rCu27FTK/9UI1Xd6T61P85gAAAAASUVORK5CYII='/></td></tr>                    <tr><td align='center'>3</td></tr></table></td><td>                    <table><tr><td><img src='data:image/png;base64,iVBORw0KGgoAAAANSUhEUgAAABwAAAAcCAAAAABXZoBIAAAA1ElEQVR4nGNgoD9gRDB5dEI+GUrOWPQPU5Xysnf/vn36++2fMxadO/7deXv8Bv/3zTcCMXXKQenz3/hwusH890pGXHLc11+I4JIT2ffLFoeURNm5fz/6coSwydnf//fv379//y7CRZgQkl/PNycKCQnlaNTidC4Dw+b3eCQD4JJMWGRZRXBLivx+g9vYVxh2svSwQhjM0/41oks6/NuqxsDAwKC0599FjADkefT/foRLw9xP/86LY9qke+nfv3///v/bbYjNHZqN759ujhZgxu1SugAAof1M7YWQxhQAAAAASUVORK5CYII='/></td></tr>                    <tr><td align='center'>3</td></tr></table></td><td>                    <table><tr><td><img src='data:image/png;base64,iVBORw0KGgoAAAANSUhEUgAAABwAAAAcCAAAAABXZoBIAAABCklEQVR4nGNgGNRAL/Pfv3///r/XxJRSLbv37+/fv3///r1shi7Hd+LvX6jk3xIGBgYGBiaYlMCCe6YMDAwMDD9fwJXDJYNjBSGM+3UYkpLxDAwMDG3Jaxg6MB1z7u/f3y/rORmE1Jj5V8PsZIHImSsxMLwTZ2BgePeOQYAfzdhKXgaGaVAhF2cMBzG0dWFaxsDAwMBQ/u/fC284b96/f6VIdv7/z7BpK1zy33+G/2jG4gJ69/7+nQXjsJd8+7uFE6Hz0gwklbmd7Ay/vmM3Nq+JgeHzVGSRsr9/3103FBERcbr+8e/Xlw4oyoOeQqPq39+/H7LRDduAkMzBcK/Ge6jkQksWgp6jFAAAXIN3IaH0jVwAAAAASUVORK5CYII='/></td></tr>                    <tr><td align='center'>0</td></tr></table></td><td>                    <table><tr><td><img src='data:image/png;base64,iVBORw0KGgoAAAANSUhEUgAAABwAAAAcCAAAAABXZoBIAAAA10lEQVR4nGNgGDaAEUbnMDAwMP4XqSn8v+khqhLRuJt//vz58/fPnz9//zxu00KR3PDnD0Lyz5973dxIxt5UZmBoeQNRWCPCwPjfeydCp9b8P38uyUM5qn/+/nFHNpe1/NKfGnm45HNjVDfJHz4Mlez583ceLs9p3f2znx+X5K2/f0NwycV9/3MJl5zolT+P5HFJTvj7pwWXXPLf//c0cRl68s9fc5yu+fNnPRcuyZt//tghcZmQ5VarMK4z8MOh8e+fP7jt/Pvnz59ZuOz8++fPClzOwQAARjdjt+VWv/oAAAAASUVORK5CYII='/></td></tr>                    <tr><td align='center'>7</td></tr></table></td><td>                    <table><tr><td><img src='data:image/png;base64,iVBORw0KGgoAAAANSUhEUgAAABwAAAAcCAAAAABXZoBIAAAA3ElEQVR4nGNgGL5Aa8kfe+wy4koMX/4VMDAwMIRiyLHse8jwfycvAwMDQzy6HNuqf0cd/lkzYJPkbPl3RrzgnwwDAwMDgy+avuX/blhJfHoogGQNnOUWznBKOoDn1AcGBgPVI89RdTLP//fv379/T6ZPv/brnzcDAwMDAyNClt3DRDqB4cl/Boa71ybfxPRn/b8pUJY7hpz4j5MwpgoDAwMDE7KkHdtaGPMOukaevY/FMK2CgqJ/6TjldB6t58ApOeW0NU45qU89OOUYmlfido3wS0fcGtfl4pbDCgCLij62ti/C3gAAAABJRU5ErkJggg=='/></td></tr>                    <tr><td align='center'>4</td></tr></table></td><td>                    <table><tr><td><img src='data:image/png;base64,iVBORw0KGgoAAAANSUhEUgAAABwAAAAcCAAAAABXZoBIAAAA9klEQVR4nGNgGIbAsPb1/39VDAwMDAy8bVssUeQW//r79+/fP/YMDAwCx//+LUWSMlnx5+9VBR7DXGYGBoa5f/9uZ0OSXP03XZgHyo7+/vc1B7KhP/4KQ1mie7/+/eyLYuPJvxmcDAwMDO5VT/7+/VuI6lSh439vX79+/frXv3///t3Gj+YRkaVn//79u3/9wb9/7wpg+lPE2NiYm8H67988rMHAwMDAEPv3ljAuuYC3f/Nxajzy97oYgseEIsfL9a37FW4bD+E01Pg1qo0oxsoI/TyNU+fsv5tQ+Cg63zBMYsGp0//v32ZkPorKG4t+zsWpEx0AADUnXUEwaybFAAAAAElFTkSuQmCC'/></td></tr>                    <tr><td align='center'>9</td></tr></table></td><td>                    <table><tr><td><img src='data:image/png;base64,iVBORw0KGgoAAAANSUhEUgAAABwAAAAcCAAAAABXZoBIAAABAElEQVR4nGNgGLpAtqnp4f//uewln0+woUlxxN/8CwM/uFHlpK/+/fuhP3/G379//x6yw5C7ninPwD7z79+/XzzRDJ3695kSAwOD69+/f//6Q4SYkKS/v2ZgkAlnYGDYvAfdpfZv/q7nY9j19+/fI7yY/nD/+3ed0fG/f996YfEkZ8yrv39xyDEwMPj+/fv3jTd2Oe6Ff//+nY4kwIJgckXFMHz4w45dY/Pfv2vVdu3EKlf79m8RHwN2Sbt3fzfwMohexibJ/eHvI24GhqV/O7BI1v397MrAkPjtsQoW13Ix7NfWDjJjzbyDRWcHJI77mLG5h//v37+vG3WZsMmRAQA61XYFfZea6QAAAABJRU5ErkJggg=='/></td></tr>                    <tr><td align='center'>8</td></tr></table></td><td>                    <table><tr><td><img src='data:image/png;base64,iVBORw0KGgoAAAANSUhEUgAAABwAAAAcCAAAAABXZoBIAAABDUlEQVR4nM3RsUrDUBTG8S9BaAcJmLmLWPEVUhx01MFJBwcRR50cu6mLDn0MER1sEYx0FAcfwEDp5KCbgrZxULL8E4e05t6a0cEz3Y8f957DudI/rmDvMV0qJ//8FXiLomjN/4UbAKQA7eqENQYF0rTNy43wHmAwbeEsAMmJ/PV3wLPwDIAjSWo0+2xbHRPgwJvKU0gSGHgF8W1tnELoGBjBdZG24EGS3Dy6juMYA7RcR5JGXdJMF8ZDWZoZNyVtFuaONlRgfe7nWNu3sCct3NTHeCz1jCZ+G+gfViRJKy9czhioahfgNJC0HE+uT5UOwOfHcPjFs+fYKH+x9ZR/Wbyjkprfvcugu1pmf1jfxNKPOOys5PsAAAAASUVORK5CYII='/></td></tr>                    <tr><td align='center'>0</td></tr></table></td><td>                    <table><tr><td><img src='data:image/png;base64,iVBORw0KGgoAAAANSUhEUgAAABwAAAAcCAAAAABXZoBIAAAAxElEQVR4nN3QIQ+CUBAH8P+ciaxZK5WNSGVWqIzKlyD6ZqQKVqub0QpWqsxqfZuN+u6excHme+8LeOl2v/1vuwP+tfxa8pDarRxJkRoTU9aCeKiijeS9aT09Ag++UBfPwIbOAFAwFebWTgEAKlIrE/kIAIJYTqPl1Olke0USaxwsZ/QjEw81veati6kLw+aUh9D3tyUJADhz6yKgp9hpgiqn+aQil+2IM2ewU5n51W+VunXm0lEGTmzo9juaP6SfuTNoqw/nCky9M8iykgAAAABJRU5ErkJggg=='/></td></tr>                    <tr><td align='center'>9</td></tr></table></td><td>                    <table><tr><td><img src='data:image/png;base64,iVBORw0KGgoAAAANSUhEUgAAABwAAAAcCAAAAABXZoBIAAAAs0lEQVR4nGNgGOyg9t+lSAzBFn0GBgYGBvbPf//uR5MSjH/7gpWBgYGB/S+SJAuEUp/HwMCIYRoTPvuJlXTHkITaacPAwFC0/0ugnB8WAw78/fv377PH3/7+/fv3rwuqTjsjBgYGBnGo2CdUO68fQTLlgwCasSLZjx49evSoNuPj378P1uBy/QTkEEL35z5kDrqkNT5JdjySYmF4JNnEGXADqS9//570wCXr9vdvIh7NVAEACRg456le1C0AAAAASUVORK5CYII='/></td></tr>                    <tr><td align='center'>4</td></tr></table></td><td>                    <table><tr><td><img src='data:image/png;base64,iVBORw0KGgoAAAANSUhEUgAAABwAAAAcCAAAAABXZoBIAAAApUlEQVR4nGNgGAyAfcO/Bzgljf/+vQ9lMqHLsZQzMHzHpbH579+b6rgkL/7924ZLzvvD3/dSuCR3/P1qj0uu7//fnbjk7J7+++SJQ87s6d9/mbg0zvj37you1yh8/vu3GIccU9/fv7NxGSr39+8Lc1TlCKYuA8Oekzg0erz4u1cQl6kP/v5djO4KGEObm4FBQRSH5Mc/DAxff+Iy9uHfv9645OgIAARGOydLdSeEAAAAAElFTkSuQmCC'/></td></tr>                    <tr><td align='center'>1</td></tr></table></td><tr></tr></table></body>"
      ],
      "text/plain": [
       "<IPython.core.display.HTML object>"
      ]
     },
     "metadata": {},
     "output_type": "display_data"
    },
    {
     "name": "stdout",
     "output_type": "stream",
     "text": [
      "class: 5\n"
     ]
    },
    {
     "data": {
      "image/png": "[encoded data removed]",
      "text/plain": [
       "<matplotlib.figure.Figure at 0x7f2c18cd7f10>"
      ]
     },
     "metadata": {},
     "output_type": "display_data"
    }
   ],
   "source": [
    "(X_train, Y_train), (X_test, Y_test) = mnist.load_data()\n",
    "n_train = 1000\n",
    "n_test = 200\n",
    "\n",
    "Y = Y_train[:n_train]\n",
    "Y_oh = oneHotIt(Y,10)\n",
    "\n",
    "X = X_train[:n_train].reshape((-1,28*28))/255.\n",
    "X_bias = np.hstack([np.ones((n_train,1)),X]) # incluído X00 como 1 para gerar bias no W\n",
    "testY = Y_test[:n_test]\n",
    "testX = X_test[:n_test].reshape((-1,28*28))/255.\n",
    "testX_bias = np.hstack([np.ones((n_test,1)),testX]) # incluído X00 como 1 para gerar bias no W\n",
    "\n",
    "print 'X.shape:', X.shape\n",
    "print 'Y.shape:', Y.shape\n",
    "print 'Y_oh.shape:', Y_oh.shape\n",
    "\n",
    "# mostrando com o nbshow (ainda em desenvolvimento)\n",
    "nb = nbpil.nbshow(ncols=20)\n",
    "for i in range(60):\n",
    "    nb.nbshow(np.uint8(X[i].reshape((28,28))*255),'%d'% (Y_train[i],))\n",
    "nb.nbshow()\n",
    "\n",
    "# mostrando uma imagem com o matplotlib\n",
    "plt.imshow(np.reshape(X[0],(28,28)),cmap = 'gray') # retirando primeira coluna (bias no W)\n",
    "print 'class:',Y[0]"
   ]
  },
  {
   "cell_type": "markdown",
   "metadata": {},
   "source": [
    "## Laço principal - treinamento"
   ]
  },
  {
   "cell_type": "code",
   "execution_count": 34,
   "metadata": {
    "collapsed": false
   },
   "outputs": [
    {
     "name": "stdout",
     "output_type": "stream",
     "text": [
      "Final loss: 0.0226165833741\n"
     ]
    }
   ],
   "source": [
    "n = X_bias.shape[0] # number of training examples\n",
    "m = X_bias.shape[1] # number of attributes (features, pixels + 1(bias))\n",
    "k = 10         # number of classes\n",
    "W = np.zeros([m,k]) # n. de linhas é igual a número de atributos (features, pixels)\n",
    "iterations = 1000\n",
    "learningRate = 1\n",
    "losses = []\n",
    "for i in range(iterations):\n",
    "    scores = X_bias.dot(W)\n",
    "    S = softmax(scores)\n",
    "    loss = (-1. / n) * np.sum(Y_oh * np.log(S))\n",
    "    Grad = (-1. / n) * (X_bias.T).dot(Y_oh - S)\n",
    "    W = W - (learningRate * Grad)\n",
    "    losses.append(loss)\n",
    "print 'Final loss:',loss\n"
   ]
  },
  {
   "cell_type": "code",
   "execution_count": 32,
   "metadata": {
    "collapsed": false
   },
   "outputs": [
    {
     "data": {
      "text/plain": [
       "[<matplotlib.lines.Line2D at 0x7f2c14b24f10>]"
      ]
     },
     "execution_count": 32,
     "metadata": {},
     "output_type": "execute_result"
    },
    {
     "data": {
      "image/png": "[encoded data removed]",
      "text/plain": [
       "<matplotlib.figure.Figure at 0x7f2c162328d0>"
      ]
     },
     "metadata": {},
     "output_type": "display_data"
    }
   ],
   "source": [
    "plt.plot(losses)"
   ]
  },
  {
   "cell_type": "markdown",
   "metadata": {},
   "source": [
    "### Now that we have trained our model, we can see how well it is able to perform on both the training and test sets:"
   ]
  },
  {
   "cell_type": "code",
   "execution_count": 28,
   "metadata": {
    "collapsed": false
   },
   "outputs": [
    {
     "name": "stdout",
     "output_type": "stream",
     "text": [
      "Training Accuracy:  0.991\n",
      "Test Accuracy:  0.91\n",
      "Matriz de confusão (Treino):\n"
     ]
    },
    {
     "data": {
      "text/html": [
       "<div>\n",
       "<table border=\"1\" class=\"dataframe\">\n",
       "  <thead>\n",
       "    <tr style=\"text-align: right;\">\n",
       "      <th>col_0</th>\n",
       "      <th>0</th>\n",
       "      <th>1</th>\n",
       "      <th>2</th>\n",
       "      <th>3</th>\n",
       "      <th>4</th>\n",
       "      <th>5</th>\n",
       "      <th>6</th>\n",
       "      <th>7</th>\n",
       "      <th>8</th>\n",
       "      <th>9</th>\n",
       "    </tr>\n",
       "    <tr>\n",
       "      <th>row_0</th>\n",
       "      <th></th>\n",
       "      <th></th>\n",
       "      <th></th>\n",
       "      <th></th>\n",
       "      <th></th>\n",
       "      <th></th>\n",
       "      <th></th>\n",
       "      <th></th>\n",
       "      <th></th>\n",
       "      <th></th>\n",
       "    </tr>\n",
       "  </thead>\n",
       "  <tbody>\n",
       "    <tr>\n",
       "      <th>0</th>\n",
       "      <td>97</td>\n",
       "      <td>0</td>\n",
       "      <td>0</td>\n",
       "      <td>0</td>\n",
       "      <td>0</td>\n",
       "      <td>0</td>\n",
       "      <td>0</td>\n",
       "      <td>0</td>\n",
       "      <td>0</td>\n",
       "      <td>1</td>\n",
       "    </tr>\n",
       "    <tr>\n",
       "      <th>1</th>\n",
       "      <td>0</td>\n",
       "      <td>115</td>\n",
       "      <td>1</td>\n",
       "      <td>0</td>\n",
       "      <td>0</td>\n",
       "      <td>0</td>\n",
       "      <td>0</td>\n",
       "      <td>0</td>\n",
       "      <td>0</td>\n",
       "      <td>0</td>\n",
       "    </tr>\n",
       "    <tr>\n",
       "      <th>2</th>\n",
       "      <td>0</td>\n",
       "      <td>0</td>\n",
       "      <td>96</td>\n",
       "      <td>0</td>\n",
       "      <td>0</td>\n",
       "      <td>1</td>\n",
       "      <td>0</td>\n",
       "      <td>0</td>\n",
       "      <td>0</td>\n",
       "      <td>0</td>\n",
       "    </tr>\n",
       "    <tr>\n",
       "      <th>3</th>\n",
       "      <td>0</td>\n",
       "      <td>0</td>\n",
       "      <td>0</td>\n",
       "      <td>92</td>\n",
       "      <td>0</td>\n",
       "      <td>0</td>\n",
       "      <td>0</td>\n",
       "      <td>0</td>\n",
       "      <td>0</td>\n",
       "      <td>0</td>\n",
       "    </tr>\n",
       "    <tr>\n",
       "      <th>4</th>\n",
       "      <td>0</td>\n",
       "      <td>0</td>\n",
       "      <td>0</td>\n",
       "      <td>0</td>\n",
       "      <td>105</td>\n",
       "      <td>0</td>\n",
       "      <td>0</td>\n",
       "      <td>0</td>\n",
       "      <td>0</td>\n",
       "      <td>0</td>\n",
       "    </tr>\n",
       "    <tr>\n",
       "      <th>5</th>\n",
       "      <td>0</td>\n",
       "      <td>1</td>\n",
       "      <td>0</td>\n",
       "      <td>1</td>\n",
       "      <td>0</td>\n",
       "      <td>90</td>\n",
       "      <td>0</td>\n",
       "      <td>0</td>\n",
       "      <td>0</td>\n",
       "      <td>0</td>\n",
       "    </tr>\n",
       "    <tr>\n",
       "      <th>6</th>\n",
       "      <td>0</td>\n",
       "      <td>0</td>\n",
       "      <td>0</td>\n",
       "      <td>0</td>\n",
       "      <td>0</td>\n",
       "      <td>1</td>\n",
       "      <td>94</td>\n",
       "      <td>0</td>\n",
       "      <td>0</td>\n",
       "      <td>0</td>\n",
       "    </tr>\n",
       "    <tr>\n",
       "      <th>7</th>\n",
       "      <td>0</td>\n",
       "      <td>0</td>\n",
       "      <td>1</td>\n",
       "      <td>0</td>\n",
       "      <td>0</td>\n",
       "      <td>0</td>\n",
       "      <td>0</td>\n",
       "      <td>117</td>\n",
       "      <td>0</td>\n",
       "      <td>1</td>\n",
       "    </tr>\n",
       "    <tr>\n",
       "      <th>8</th>\n",
       "      <td>0</td>\n",
       "      <td>0</td>\n",
       "      <td>0</td>\n",
       "      <td>0</td>\n",
       "      <td>0</td>\n",
       "      <td>0</td>\n",
       "      <td>0</td>\n",
       "      <td>0</td>\n",
       "      <td>87</td>\n",
       "      <td>0</td>\n",
       "    </tr>\n",
       "    <tr>\n",
       "      <th>9</th>\n",
       "      <td>0</td>\n",
       "      <td>0</td>\n",
       "      <td>1</td>\n",
       "      <td>0</td>\n",
       "      <td>0</td>\n",
       "      <td>0</td>\n",
       "      <td>0</td>\n",
       "      <td>0</td>\n",
       "      <td>0</td>\n",
       "      <td>98</td>\n",
       "    </tr>\n",
       "  </tbody>\n",
       "</table>\n",
       "</div>"
      ],
      "text/plain": [
       "col_0   0    1   2   3    4   5   6    7   8   9\n",
       "row_0                                           \n",
       "0      97    0   0   0    0   0   0    0   0   1\n",
       "1       0  115   1   0    0   0   0    0   0   0\n",
       "2       0    0  96   0    0   1   0    0   0   0\n",
       "3       0    0   0  92    0   0   0    0   0   0\n",
       "4       0    0   0   0  105   0   0    0   0   0\n",
       "5       0    1   0   1    0  90   0    0   0   0\n",
       "6       0    0   0   0    0   1  94    0   0   0\n",
       "7       0    0   1   0    0   0   0  117   0   1\n",
       "8       0    0   0   0    0   0   0    0  87   0\n",
       "9       0    0   1   0    0   0   0    0   0  98"
      ]
     },
     "metadata": {},
     "output_type": "display_data"
    },
    {
     "name": "stdout",
     "output_type": "stream",
     "text": [
      "Matriz de confusão (Teste):\n"
     ]
    },
    {
     "data": {
      "text/html": [
       "<div>\n",
       "<table border=\"1\" class=\"dataframe\">\n",
       "  <thead>\n",
       "    <tr style=\"text-align: right;\">\n",
       "      <th>col_0</th>\n",
       "      <th>0</th>\n",
       "      <th>1</th>\n",
       "      <th>2</th>\n",
       "      <th>3</th>\n",
       "      <th>4</th>\n",
       "      <th>5</th>\n",
       "      <th>6</th>\n",
       "      <th>7</th>\n",
       "      <th>8</th>\n",
       "      <th>9</th>\n",
       "    </tr>\n",
       "    <tr>\n",
       "      <th>row_0</th>\n",
       "      <th></th>\n",
       "      <th></th>\n",
       "      <th></th>\n",
       "      <th></th>\n",
       "      <th></th>\n",
       "      <th></th>\n",
       "      <th></th>\n",
       "      <th></th>\n",
       "      <th></th>\n",
       "      <th></th>\n",
       "    </tr>\n",
       "  </thead>\n",
       "  <tbody>\n",
       "    <tr>\n",
       "      <th>0</th>\n",
       "      <td>16</td>\n",
       "      <td>0</td>\n",
       "      <td>0</td>\n",
       "      <td>0</td>\n",
       "      <td>0</td>\n",
       "      <td>0</td>\n",
       "      <td>0</td>\n",
       "      <td>0</td>\n",
       "      <td>0</td>\n",
       "      <td>0</td>\n",
       "    </tr>\n",
       "    <tr>\n",
       "      <th>1</th>\n",
       "      <td>0</td>\n",
       "      <td>28</td>\n",
       "      <td>0</td>\n",
       "      <td>0</td>\n",
       "      <td>0</td>\n",
       "      <td>0</td>\n",
       "      <td>0</td>\n",
       "      <td>0</td>\n",
       "      <td>0</td>\n",
       "      <td>0</td>\n",
       "    </tr>\n",
       "    <tr>\n",
       "      <th>2</th>\n",
       "      <td>0</td>\n",
       "      <td>0</td>\n",
       "      <td>12</td>\n",
       "      <td>1</td>\n",
       "      <td>0</td>\n",
       "      <td>1</td>\n",
       "      <td>1</td>\n",
       "      <td>0</td>\n",
       "      <td>0</td>\n",
       "      <td>0</td>\n",
       "    </tr>\n",
       "    <tr>\n",
       "      <th>3</th>\n",
       "      <td>1</td>\n",
       "      <td>0</td>\n",
       "      <td>1</td>\n",
       "      <td>13</td>\n",
       "      <td>0</td>\n",
       "      <td>0</td>\n",
       "      <td>0</td>\n",
       "      <td>1</td>\n",
       "      <td>0</td>\n",
       "      <td>1</td>\n",
       "    </tr>\n",
       "    <tr>\n",
       "      <th>4</th>\n",
       "      <td>0</td>\n",
       "      <td>0</td>\n",
       "      <td>1</td>\n",
       "      <td>0</td>\n",
       "      <td>25</td>\n",
       "      <td>0</td>\n",
       "      <td>0</td>\n",
       "      <td>1</td>\n",
       "      <td>0</td>\n",
       "      <td>0</td>\n",
       "    </tr>\n",
       "    <tr>\n",
       "      <th>5</th>\n",
       "      <td>0</td>\n",
       "      <td>0</td>\n",
       "      <td>0</td>\n",
       "      <td>2</td>\n",
       "      <td>0</td>\n",
       "      <td>19</td>\n",
       "      <td>0</td>\n",
       "      <td>0</td>\n",
       "      <td>0</td>\n",
       "      <td>0</td>\n",
       "    </tr>\n",
       "    <tr>\n",
       "      <th>6</th>\n",
       "      <td>0</td>\n",
       "      <td>0</td>\n",
       "      <td>1</td>\n",
       "      <td>0</td>\n",
       "      <td>1</td>\n",
       "      <td>0</td>\n",
       "      <td>19</td>\n",
       "      <td>0</td>\n",
       "      <td>0</td>\n",
       "      <td>0</td>\n",
       "    </tr>\n",
       "    <tr>\n",
       "      <th>7</th>\n",
       "      <td>0</td>\n",
       "      <td>0</td>\n",
       "      <td>1</td>\n",
       "      <td>0</td>\n",
       "      <td>0</td>\n",
       "      <td>0</td>\n",
       "      <td>0</td>\n",
       "      <td>21</td>\n",
       "      <td>0</td>\n",
       "      <td>1</td>\n",
       "    </tr>\n",
       "    <tr>\n",
       "      <th>8</th>\n",
       "      <td>0</td>\n",
       "      <td>0</td>\n",
       "      <td>0</td>\n",
       "      <td>0</td>\n",
       "      <td>0</td>\n",
       "      <td>0</td>\n",
       "      <td>0</td>\n",
       "      <td>0</td>\n",
       "      <td>10</td>\n",
       "      <td>0</td>\n",
       "    </tr>\n",
       "    <tr>\n",
       "      <th>9</th>\n",
       "      <td>0</td>\n",
       "      <td>0</td>\n",
       "      <td>0</td>\n",
       "      <td>0</td>\n",
       "      <td>2</td>\n",
       "      <td>0</td>\n",
       "      <td>0</td>\n",
       "      <td>1</td>\n",
       "      <td>0</td>\n",
       "      <td>19</td>\n",
       "    </tr>\n",
       "  </tbody>\n",
       "</table>\n",
       "</div>"
      ],
      "text/plain": [
       "col_0   0   1   2   3   4   5   6   7   8   9\n",
       "row_0                                        \n",
       "0      16   0   0   0   0   0   0   0   0   0\n",
       "1       0  28   0   0   0   0   0   0   0   0\n",
       "2       0   0  12   1   0   1   1   0   0   0\n",
       "3       1   0   1  13   0   0   0   1   0   1\n",
       "4       0   0   1   0  25   0   0   1   0   0\n",
       "5       0   0   0   2   0  19   0   0   0   0\n",
       "6       0   0   1   0   1   0  19   0   0   0\n",
       "7       0   0   1   0   0   0   0  21   0   1\n",
       "8       0   0   0   0   0   0   0   0  10   0\n",
       "9       0   0   0   0   2   0   0   1   0  19"
      ]
     },
     "metadata": {},
     "output_type": "display_data"
    }
   ],
   "source": [
    "def getAccuracy(X,W, Y):\n",
    "    Y_hat = predict(X,W)\n",
    "    accuracy = sum(Y_hat == Y)/(float(len(Y)))\n",
    "    return accuracy\n",
    "\n",
    "print 'Training Accuracy: ', getAccuracy(X_bias,W,Y)\n",
    "print 'Test Accuracy: ', getAccuracy(testX_bias,W,testY)\n",
    "\n",
    "print 'Matriz de confusão (Treino):'\n",
    "display(pd.crosstab(predict(X_bias,W), Y))\n",
    "\n",
    "print 'Matriz de confusão (Teste):'\n",
    "display(pd.crosstab(predict(testX_bias,W), testY))\n"
   ]
  },
  {
   "cell_type": "markdown",
   "metadata": {
    "collapsed": false
   },
   "source": [
    "### One of the benefits of a simple model like softmax is that we can visualize the weights for each of the classes, and see what it prefers. Here we look at the weights for the '3' class."
   ]
  },
  {
   "cell_type": "code",
   "execution_count": 29,
   "metadata": {
    "collapsed": false
   },
   "outputs": [
    {
     "data": {
      "text/plain": [
       "<matplotlib.image.AxesImage at 0x7f2c14b7c190>"
      ]
     },
     "execution_count": 29,
     "metadata": {},
     "output_type": "execute_result"
    },
    {
     "data": {
      "image/png": "[encoded data removed]",
      "text/plain": [
       "<matplotlib.figure.Figure at 0x7f2c162ab3d0>"
      ]
     },
     "metadata": {},
     "output_type": "display_data"
    }
   ],
   "source": [
    "# Visualizando pesos da classe 3\n",
    "plt.imshow(W[1:,3].reshape((28,28)),cmap = 'gray')"
   ]
  },
  {
   "cell_type": "code",
   "execution_count": 30,
   "metadata": {
    "collapsed": false
   },
   "outputs": [
    {
     "data": {
      "text/html": [
       "<head><style>                table, th, td { border: 0px solid black;                text-align: center;border-collapse: collapse;}</style></head>                <body><table border=\"0\"><tr><td>                    <table><tr><td><img src='data:image/png;base64,iVBORw0KGgoAAAANSUhEUgAAABwAAAAcCAAAAABXZoBIAAACMUlEQVR4nHWSS2/TQBSFz4xnYjuePJrQJE2ihrYgJKqqXbFkxw/kv7DqGsEKugCpokIkgbZJ67R52xmPPZdFAgoL7u7o6N57dPSxt/j/8H8l0bYS28JkmQQY4wxs27QcFEZqlSv5qdasuH3WGlr8MH6hQ31RPuooEn83tZlaz6z02Su+Oh8c5Gm5cHSOrU2jV0VP2eJpPPLfDGrJyI/mJDgTAEjYQtFzbushTc/U072Lu/zcprErBQBIKKd0URE90/4ON58kR/6QQmeTlvJuOBSZObRXcaFYcE11biWHAEAp94Nblb8us/v3XqlReQxOgm9indZof8edNXZPfv38+Fl2DmbRopi/kUILADxV9btAnq6i3mXfslB5NNi1IHCAC+6WF+pQ8az7yK333GRVcwNrwAHLRGUU5WptfOhOk2xnfM+qk4klWgcSpSSod3rn3VEm23vjfFsMiokFFwDAadJ+Nu5OZpr2Ow2qBssHAAwcAMFwrmLZepJrNg54VS2vk4Vm627JTf0yC02zcMKPZdCaYCBT8M1PniY2bNva61AsTeWL0w8aWGxK0N5459Nh+Yhqw3eFwvxSSYI2UhgBAJkSfLiKssfoRaV3VQsqKooVd4wA4DmO505Z66HeWk7vcrv7IpYgm0EA4GYWz1IjXrqp6unj5jIkEKyFAMCygc3i66/Vkudp4g/GEVtoOrBCWrOIoZ0mGe4w2uLWYQC5DGmOgTG2wfYPtxtCcwBh4wD4DcuIBd5Ib2cIAAAAAElFTkSuQmCC'/></td></tr>                    <tr><td align='center'>0</td></tr></table></td><td>                    <table><tr><td><img src='data:image/png;base64,iVBORw0KGgoAAAANSUhEUgAAABwAAAAcCAAAAABXZoBIAAACKklEQVR4nH2S227TQBCGZ092vHHiOmkaUkdNaYWoOEhUAglxgRAPwjPwclwgJCTuQUJtiYgglXpMG8dN6jp27Hh3uIhTlQvYu9Wnndn55ifv4d+H/ocBv3tBAFDAAID8BXGuc0LEzG1eR1NWXtACYtU7D9EO05L5ZMr268wHsoQo167h92A3HjpDb942LoUYaLqAiPIivjKr/WZ2WP9YrYx4304ZBQoACGo/ILNpfJN1XNmdJ6U14SdKL17qCM826ZTuuuGJ1az1NF5ENWEAB00BFCsHNfvmsdF7HQ4nfTx3XMYJcKAAYOVYXfX1TL2bfnCG6mSlJctsaUhY214iw27FFCuOOa61KhajxSiErT84C/agWltrfDntUc8WghQSCMhq9+fRQfRsM9unp5MNiygkt4bMIz/JpS7Z6WhvY5ynhCpClj0vA02E6b6Rnf75QCGgUrhcGQIordK39WxwepE32pRQAliURchmcfgicOnXVNGH7nVioC5+i5iE0c1Wy4ipPmt2OlQe50LxRVlEFY5tb8c4/hG/2r5fbzYUAl+sDEFDqbHOryT5bI5mXH9zvMskt4xFT8qeb/kYTQ6DRzspv+KGFpQzqjkAQWq3HeJPEtZcddPWr7aBEaFEF4YqcS+qzYdx/mn0csRUlvPbgBFEdRjIwfheFH73nwYBke6d9E1GMcxtxyqvV3hoeEUyCwmMlzM2n0lBNdBlagvIGEAJhAQABoBLBn8AH8z6MAaPvgwAAAAASUVORK5CYII='/></td></tr>                    <tr><td align='center'>1</td></tr></table></td><td>                    <table><tr><td><img src='data:image/png;base64,iVBORw0KGgoAAAANSUhEUgAAABwAAAAcCAAAAABXZoBIAAACR0lEQVR4nHWS3W7TQBCFZ3bX6zh20rj5IZCElAJqBQiQuEI8QB+pb8SrAHeA+ClUapu2CWniON7YsWN7vcuFW+gFzNVIZzRzdObDQ/h/sVu9Rq01Iv5L1HqbpOs1RaRQTtyIWKEZg63adFQAd1R8S6RUmV7Yq7f53HXyeEMkJXgt1tpkw83H/U+TfPVUJGAsc79FERgAaCsTvayYeOKL3fEu6pNC+slmqIEBgEyqTXI1Ey/k89WG1Lth0XBOt1KOBABItSltd++h2x1XB1c2NitOyPMMkQGAChLjcxE5xxm+U9VX0zGnPpVGeVMFYCSe+XGa2/iyUHOrTjuJVSnd0nVOxCgXZ5UO443F2bBxmgFFjQQAqDTmx9KN7uwUTxpymcWL5RgKVa4Fc1FUeb5v6WLX/EEH1jzyHUtfh4Dzzf2DyVfAtrX89kxNjCO1aDFUDACAbbdeD+PhENKjxQ51CfTNLn8gz/EQALApdAxOf/A+Mojdhqya8xR9QQAA3cZgJmyskD3W2o7HCdvqtUxfXAfPhiThoT54O+gdYZC2bUJ5UhrCmi1dW9R3vtce/ezy8z7HKy8qX4ZEC0/PvH114q5457Lq+BcNkyUpMABFonsnjpd9N/BXeOnQ1SVVTi2LNDIAkFOmzMG0/iESYe/NAjBRSbQBBAaAKljlY18uhbOr4pF7l5uFb4ZGaUhmSW448TrQXLaNej4MvBm9AYwTQ6rcpA5HmqYj92S9gsy6oY9aGjVoQI0aMBCI1l+oERCwZB4A9B/MfwMnchCYpTFqGQAAAABJRU5ErkJggg=='/></td></tr>                    <tr><td align='center'>2</td></tr></table></td><td>                    <table><tr><td><img src='data:image/png;base64,iVBORw0KGgoAAAANSUhEUgAAABwAAAAcCAAAAABXZoBIAAACS0lEQVR4nH2S204TURSG19qz59hCy0xLaUuBQlEkiiQGRY3RR/BtfC2vvIEbb0jURMVD1NaOoRWGQqedzqFMO4ftxQyEmOi+WNnJn/WvlfV/+AL+/ch/NKDX/iwpCPiXyHgeGURegAQmTKF4TUQakZDkUI4i1T8d91GjmIrTuLrJQt9sOp602NdkhOMoL3FAAUDINp7QUd+S7YI7kz+12QarGYGcdN6Ko5M2uPO0flazjousH3jz0I0RKQB4gaX/ZrPL7/WCo+zuSYojszgKEltHDodZQl/uQ+Xpw5VmZ06S4pOpiEABGLHO6E9T963lQmXXXKq2B3xUsIRkpukYQbupBY3Hm89OXi3cGH7LiMhTAAqAF2PONEuZndrG2mHbWOwMBmXe4NIjoOLn1pm6tSP+6CmCi3QtKDr+5YVIhohQLuVoqWvUz1aJkB2pPYZpKlPbg+jznhlkG0z/oNqWSKqMJbYhX4lHH2nzgOH6wnLTkZmfoYiJrVbWeZZvcX44yolz9eH5KplgGjZfzJ63vh5YdTWU9NK4d1R2ySRMFxKKlfXvOO+91bbIA2qzuyttxSNJZBwbNu5LJm3TUmk7X9Hd22L3nHcZAgXgcPwlG96cvWcsDvW17ejwUz9PXVsCoAChJHvTSVVzwRyqS+8GfbPGHaOU2MZYC4SZCzXUwwq89keZO84gIpgupIi5eDK1heda/82RUXtUbA0yV/SdRpQLi7EYdn9Z8urstNOT4Io+1mMAHUQG0VzMxBZ3SToFAEBM0ecAGcSXTMMf9AAFfdqqzFkAAAAASUVORK5CYII='/></td></tr>                    <tr><td align='center'>3</td></tr></table></td><td>                    <table><tr><td><img src='data:image/png;base64,iVBORw0KGgoAAAANSUhEUgAAABwAAAAcCAAAAABXZoBIAAACPElEQVR4nHWSyW4TQRCGq6p71k7G9jg2TojjgJAMRAjOwAWJ1+KdeADuSIBEDoA4mKAs2AnxNuNZPNM93Rwcx3CgTqX6VFXSrw/fwP+Lb1qjGVSaAeJ6QhuoCiVTEkppo80/mxqh1EVmWcaURBZtIIKSGHrRGJ0imRRBSGTMGjJIS+HYVaIbMmgOZL6/FcyjDDgAMKJS2SaeX/PzrDjKt8RhMxkp1BwAKsY8zSaJFoPx9/3dg4U9sxZ5ZgEHAOLVThG5RGmtbHbdT/fO50X2M2BIYLRWpMplojKnK/1XYs+qqupS+wAEmKUxytJru/VnqdN2a0KELZH4gEAAzNgiVbXDnSfoWZ2wZXrcvco5AXAAV7U96nr11/nxlf/g0VevmG2fpY2KAQdAh6K7B+agdaGiWjB7Ub/s672SKbYKwTj3w1/v3nbGoukG/Q+dRPwWiAZXMDoJnn+c4O7TMQ/fi85goZiRxuEARqcw2ZVGT7ILvzUcisEP2WvPcfXTTCv3WJ+eFUcdV1bxyYgFU5czAg6gcDnWk/4SmgplEp1f+l03jQkBOIAmgEUyYA0zvXBa4B2OFlpxtoKWths8ofKbP+i+HIHkQCKv1pogkWNtOQ/79W4j8u1e2/MAb0xAsLS+U1IoaW9Y8/m2b0tm8FYTLohC+7rv2NakM2vqGaHBG/sM+mZem7JUzT/jLI2vio19yEwc2fEp97+APXRkg9sGbs8C9/3G8jFpzIEqw138y3gEghhsw2AbACpaK/8HidYJQ3R0+HEAAAAASUVORK5CYII='/></td></tr>                    <tr><td align='center'>4</td></tr></table></td><td>                    <table><tr><td><img src='data:image/png;base64,iVBORw0KGgoAAAANSUhEUgAAABwAAAAcCAAAAABXZoBIAAACUUlEQVR4nHWSTU8TURSG33PvnXamdAqdtiAtWECUBJQdERa6MnHjT/Pv6FKWJJoYVCIfAmopSIe20OnMtJ2Pe1wASV14dm+evMnJm4fe4v8n/o3M40mNE6210JCgWGTGIeuEmRUGJok4sGisyez7tambMD1Vhler2Nl8k9UdZB33Mt5QFKcyaTphB7m5go68hBQAHacDWV5oaOuyXjztOQsU6Lr5MWYFwI9UwV7nYK8y03Jb1VEn31tYTh/tpwJAStIn7X5bNZOjm8Yv1eD5UnF6RZACYMWcBqP25MPdp2u7jWp4HDrlkdnQUACToGvZibbstWd1p3/SuNqdXu8WTA0FQEmayCETZ/s/Ljr2cdg+fpyPShYLBZAgLkwdOKLtu2fe5ErFXe1VVGgBCmCkSqsk8J+YzaAdPShVygfNmVkIKIAYvvGz+ep58OL9mu0M3arhe2TczSdFdditnO3IzwdtNVzqW0vl7wOhSSgAZHthxNEn22OUKDKGIphrEgsoADrqL9inh19kKmY2yonrD63RREgEBbBuL730YntvVtZnnHjklIfmYJgK3D50c1LfXDy0ihid7webYfNyaWBIutUkl89+fKdziysmgua8026Gv/2RwXw7ny38y+00411kt2ajHV13dZwhMCmAAu6O3O3Xrfk35+JDZ36jdS4LUoOgAHCasx0dWrWBy6XF3NVXz6qkTHeaGNDaHDgN7jMdVWVScGJxL5hMk2QQ54+SKGtklmt/ZkmOeSsyBmKeJGgqy+trIcelJhCyAEDUBZjuLf8LrbYiVe0kK84AAAAASUVORK5CYII='/></td></tr>                    <tr><td align='center'>5</td></tr></table></td><td>                    <table><tr><td><img src='data:image/png;base64,iVBORw0KGgoAAAANSUhEUgAAABwAAAAcCAAAAABXZoBIAAACVUlEQVR4nHWS204TURSG/33o3jPt9Dy0hVaKAiEaQ+KFBi/0xhsfwEfxlXwKEy9MJMEQhRA1EorUUkqVHqbTGebQ2duLovZC19W/8mWtZP3rJy/x/+J/JUlFVPJQKfUPaGT62vbtnBNMZThdhNLTK+XaoCnGVuOOs9tfmFQyP+YNhL6op86sz053KOlvqJPM+LqUzHqD3fhSZqYH7ZyRSTFwAMoP812H7IsPqafneztvh6HnVdKIFAfg6jwdHK+l2q3GUQt7E6NUpYHvc4sDMHXWa5ub5n5puSYuD7rZUbKpR2aNcQAk8gcrW/VudXPALRmk+Ybn2iVQUABJqGZ2qZneVsXO6/cizjfKV2FDEHAAXEtprvLYtTvuSJvb9ezWlSiONeEAmJYmS0JGmD0u8/TtyXbDmeRlAA6AyHQwm4kmiyvVDTEuN4o5lvspQ1AAoBrqu1dIzr9YT9zEN8u0UvRCPYdsyCEe2LN0rbD0bHXL/fhD93ud/tw+EhmXy+5sx7mirxz9+Ppr5fRoRCxwAFqP47oe3ltp7wdnzaS7ev8TmRrZ+Sla0dbyw8r6ybt+7UW+xaJzP1MZ3XxFxR7pnRTcwqNi+ti5yHXqVhQLAnBAax1GxeEh12vJYXhabRojK4hNDUIBUJpSLksOJu3C9Ni+JS15dBGo+VpCDdPMeAPvjb61/nx6cWj2zKzJoOcOpbLRaBi535yqsErkbpIzDQDk5k5RsFjgr1/7eompiBoC5E/ACIQEszQImAY4JQu51ZRCSQpoogFFyGKoCQA2F+SmBQD8AvAPBcf4GIrmAAAAAElFTkSuQmCC'/></td></tr>                    <tr><td align='center'>6</td></tr></table></td><td>                    <table><tr><td><img src='data:image/png;base64,iVBORw0KGgoAAAANSUhEUgAAABwAAAAcCAAAAABXZoBIAAACLklEQVR4nHWSy1ITURCG/z6nz5nJTK4kTJIqCjS4cKdYPoQvxwP5DuzQUgpBEQIhIZlcZjJkbu0iKYuF9qr7/6pX/0en+P/wi11IAID+BQUCQLYHvYTbvEiVJgXaffOOCJWlpHFCLgFV1gq0g2WWFIaShU2tTm59v/RYa0XEACRbsa3EkT3uueePbVnny2rFUxAGAEXuq1nrJHXMbTPQk3CSJeQKiAHoVb3z5iG56RzepB/a+f0wp77RsSIGw9QaJpyH9ebw8uO7/NEbdEdlagAw8qBi1s9xixt895quK0Frnj1PjdEEBaR+5/48dObZ5y8/4+97e84k5gILlGBgUUl/zXravc4Xv5PueX3IrZk3KZjAgIy9xnNkw28XUfN4nLuzk8lKxy4ABQCr+pGqPVwNr2YuReH77niVkiYCA8hTBXN2j15vcOA8fDoYx5bqgpIYIMkLJz0Mxui3ldUmyidpmdT2AQbKXJ6t75qbgwr1y+gisxLnvogCAzYTnnmrH/l808Pwq67ZOXnG27ZiUBZZGLsN2WudOcjU1F0a39n2GYtkReEFxdIfTmubmVets+9oCCkAhq1xu0F6lDxld0YtUVjSBAEDIGv8pKma+xTyIB6RpOscPggMkCjHMbUnz9V9CqJ5suowIpd3mqgqDjvtrLuxb0e3g0vreJL9FUyjUq6F19KvjoJFx4iTQQGgU0DIRrDNqiNqGm20w6sXahIyl2Q+J0WAU8SkdjL/AXJ+/uacML5RAAAAAElFTkSuQmCC'/></td></tr>                    <tr><td align='center'>7</td></tr></table></td><td>                    <table><tr><td><img src='data:image/png;base64,iVBORw0KGgoAAAANSUhEUgAAABwAAAAcCAAAAABXZoBIAAACYElEQVR4nH2SzWsTYRCH5919N/uZj41tmpTWWmvTpq1CMbSHKh4seBDx7rUH/x4PXjx49KIHPYgoiLQoeLAiVqK01lhJbGK62XzsZj/e3R0PGyUXHRgYeJhhePiRLfh3cf9hQEdmBAAICPd3g/4FiAjYCXiB2FKGH4GIAUOPNTIaFP0fQUpmaX8whBjabmi2ldTymhW5zJdEr+OJfBhvBj124pWVseILcnXcijBYOWBOkqMAEKJHJSwVos7d7sbLSrIcfG9MmxNqLT7rLbHjqB79WtU/HiwHzUJDteebhksBCZEukl621KDFVusoKr69/u7mOamKLlAgiHm9l8zNYe1887VxuzNVmUtX28eeghQAkEa8A7vp1Knp1YHJtGSmypuBjEABCAHTtjmtOrh0ZWV/Tzlr7XOOnxhK4OttKcRXP9c5wdHyg/s9tj6ZCBnGEjzbT3w6zGnaA3HSeewYdndMDXBoiNB277O0eePZ+81vtUD3SI2oGQqEAgCEEQpTM5sNeVXMZJueu8hZikcJUADA0B/opfytr/dQ3M6U4XlRr59EOISBKywWlsgHC54alFvIG1Npa5AEoAAY+XTeNQ/v1Pq7uXx2uy+7CDMGiWMSoZYrc8b4SWWhqPHyaT0XpqQQY0igy/aknScPp9eO1TcT2uy4p7CAxIY4Pl2XGomNmaSsfhF9Yhks19UgfigK+gdwuZy9JnbWnJ3OUaufJoQDALIF4JlmRS2dSYj9C7MFeNSyOIESGELwPRbqzkAgViohOrxAuJFo8rICTJQBFD5kIuHIaG75YQMFCoB/GPwGnE8XjJsKe2EAAAAASUVORK5CYII='/></td></tr>                    <tr><td align='center'>8</td></tr></table></td><td>                    <table><tr><td><img src='data:image/png;base64,iVBORw0KGgoAAAANSUhEUgAAABwAAAAcCAAAAABXZoBIAAACcUlEQVR4nH2STU8TURSGz71z56szZaadttIGrMUiARs+BA2i0eAfMBoTN679Vf4BEz9ioguNJkgIK0JCgiGFgjWUorQW2s5MZ+7MneuC2rDRszrJkyd58+ZFz+Hfh//DgFz4OQBHDPDAuAAj4BH1mEq4QDAaQA7AeURJgnewX7e5ZSgyRn3IeBgEtj8/XK77RDvruGdDsZgqIgIALAyOIQgnaM0dTxnG+sHZrnlZijxMAIBRl7ZSYqdn3X6s73kvx/d0p2ZwUScAEDHfE3vSzROn+ZFDfPL6/bdvgtoVXSAQQRB2R6X2WFLpbZud1dkFV8oaI/GYABhwz/HkicXCcfyR8uvLqu84w2Z2ajEhAxAAgdPSk102KeKpw7BYhtNsoTZm2iIAAZA1nBiC4srWUaVyLzEn4PanA8VsnpeAtEz6dTK3vL+xn3bM1Jq6JekxCXEEGABQotvwNt3Mcmlh5dtsr9mSnbAd9etDVMpt1pO32s2vPx5qSy+q6Yo8pHLMMQBgusPdU41UvZm74vu1va5XP2KAOBAApARk57dQlHNZM9l+xRLzB17cFrAIBIBLrqN39iu4rHtYF2cqmRNLUAQBgAAEQBWtqK63/K6UZQ9qUqjmFRTDAARADCGUVJYC0IPctY1Sp0ctwUf9tDbgOuPx6ZPpakTt0k/7KhMC9HdglDYb+eCDpV8y10v5Oh3OqCOkb0aUGprbkMsbUJgrbOe10BJCrX1uMp/nMrHEszuTqJFf6o6GqBsM1ifFDSvpGHPt0adnNz6b7LBrG5LXh9hiQisZveM+Kn4XaLrXinoDM7KhyjEiQPgRB0EX/f6S/wCySBRsZEMIGgAAAABJRU5ErkJggg=='/></td></tr>                    <tr><td align='center'>9</td></tr></table></td></tr></table></body>"
      ],
      "text/plain": [
       "<IPython.core.display.HTML object>"
      ]
     },
     "metadata": {},
     "output_type": "display_data"
    }
   ],
   "source": [
    "# Visualizando os pesos de todas as classes\n",
    "for i in range(k):\n",
    "    img = W[1:,i].reshape((28,28)).copy()\n",
    "    img -= img.min()\n",
    "    img /= img.max()\n",
    "    img = np.uint8(img*255)\n",
    "    nb.nbshow(img,'%d'% (i,))\n",
    "nb.nbshow()"
   ]
  },
  {
   "cell_type": "markdown",
   "metadata": {},
   "source": [
    "## Atividades\n",
    "\n",
    "### Perguntas\n",
    "1. Por que no treino, a acurácia é 100%, mas no teste foi de 90,5%\n",
    "\n",
    "2. Por que no treino, a acurácia é 100%, porém a função de perda final não é zero, mas sim 0,045 ?\n",
    "\n",
    "3. O que se deve fazer que a avaliação no conjunto de teste seja melhorado?\n",
    "\n",
    "### Respostas\n",
    "\n",
    "1. Treinar com mais amostras, ajustar o número de épocas (early stopping), etc.\n",
    "\n",
    "2. O método sobreajustou sob os dados de treinamento\n",
    "\n",
    "3. Por que a perda é computada pelo softmax, então uma entrada teria que ser 1 e as demais zero, enquanto a predição é feita simplesmente pela maior probabilidade computada."
   ]
  },
  {
   "cell_type": "markdown",
   "metadata": {},
   "source": [
    "## Conclusões sobre os experimentos deste notebook\n",
    "\n",
    "- Há problemas de sobreajuste\n",
    "- Há muitos parâmetros sendo ajustados\n"
   ]
  },
  {
   "cell_type": "code",
   "execution_count": null,
   "metadata": {
    "collapsed": true
   },
   "outputs": [],
   "source": []
  }
 ],
 "metadata": {
  "anaconda-cloud": {},
  "kernelspec": {
   "display_name": "Python [Root]",
   "language": "python",
   "name": "Python [Root]"
  },
  "language_info": {
   "codemirror_mode": {
    "name": "ipython",
    "version": 2
   },
   "file_extension": ".py",
   "mimetype": "text/x-python",
   "name": "python",
   "nbconvert_exporter": "python",
   "pygments_lexer": "ipython2",
   "version": "2.7.13"
  }
 },
 "nbformat": 4,
 "nbformat_minor": 0
}
